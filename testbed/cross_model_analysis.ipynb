{
 "cells": [
  {
   "cell_type": "code",
   "execution_count": 88,
   "metadata": {},
   "outputs": [],
   "source": [
    "import os\n",
    "import sys\n",
    "import numpy as np\n",
    "from os.path import join\n",
    "from os.path import basename\n",
    "from tqdm import tqdm\n",
    "from tabulate import tabulate\n",
    "from collections import Counter\n",
    "from feature_analyzer.data_tools.embedding_container import EmbeddingContainer\n",
    "from feature_analyzer.data_tools.result_container import ResultContainer\n",
    "\n",
    "import seaborn as sns\n",
    "import matplotlib.pyplot as plt"
   ]
  },
  {
   "cell_type": "code",
   "execution_count": 2,
   "metadata": {},
   "outputs": [],
   "source": [
    "root_dir = '/home/kv_zhao/nist-e2e/feature-analyzer'\n",
    "feat_dir = join(root_dir, 'examples')\n",
    "resvar_dir = join(root_dir, 'results_variance')"
   ]
  },
  {
   "cell_type": "code",
   "execution_count": 3,
   "metadata": {},
   "outputs": [
    {
     "name": "stdout",
     "output_type": "stream",
     "text": [
      "Container:featobj_mergeV1_iv3_D60kv2_noaug_CL003 created\n",
      "Container:featobj_mergeV1_iv3_D60kv2_noaug_RM created\n",
      "Container:featobj_mergeV1_iv3_D60kv2_noaug_RMG_GS created\n",
      "Container:featobj_mergeV1_iv3_D60kv2_noaug_RMG2p_GS_final created\n"
     ]
    }
   ],
   "source": [
    "ec1_name = 'featobj_mergeV1_iv3_D60kv2_noaug_CL003'\n",
    "ec2_name = 'featobj_mergeV1_iv3_D60kv2_noaug_RM'\n",
    "ec3_name = 'featobj_mergeV1_iv3_D60kv2_noaug_RMG_GS'\n",
    "ec4_name = 'featobj_mergeV1_iv3_D60kv2_noaug_RMG2p_GS_final'\n",
    "# embeddings\n",
    "ec1 = EmbeddingContainer(name=ec1_name)\n",
    "ec2 = EmbeddingContainer(name=ec2_name)\n",
    "ec3 = EmbeddingContainer(name=ec3_name)\n",
    "ec4 = EmbeddingContainer(name=ec4_name)\n",
    "# results\n",
    "rc1 = ResultContainer()\n",
    "rc2 = ResultContainer()\n",
    "rc3 = ResultContainer()\n",
    "rc4 = ResultContainer()"
   ]
  },
  {
   "cell_type": "code",
   "execution_count": 14,
   "metadata": {},
   "outputs": [],
   "source": [
    "namemap = {\n",
    "    ec1_name: 'CL003',\n",
    "    ec2_name: 'RM',\n",
    "    ec3_name: 'RMG*',\n",
    "    ec4_name: 'RMG2p*',\n",
    "}"
   ]
  },
  {
   "cell_type": "code",
   "execution_count": 4,
   "metadata": {},
   "outputs": [
    {
     "name": "stdout",
     "output_type": "stream",
     "text": [
      "Load embedding container from feat_obj format\n",
      "/home/kv_zhao/nist-e2e/feature-analyzer/examples/featobj_mergeV1_iv3_D60kv2_noaug_CL003/embeddings.npy is loaded\n",
      "/home/kv_zhao/nist-e2e/feature-analyzer/examples/featobj_mergeV1_iv3_D60kv2_noaug_CL003/label_ids.npy is loaded\n",
      "/home/kv_zhao/nist-e2e/feature-analyzer/examples/featobj_mergeV1_iv3_D60kv2_noaug_CL003/filename_strings.npy is loaded\n",
      "/home/kv_zhao/nist-e2e/feature-analyzer/examples/featobj_mergeV1_iv3_D60kv2_noaug_CL003/probabilities.npy is loaded\n",
      "/home/kv_zhao/nist-e2e/feature-analyzer/examples/featobj_mergeV1_iv3_D60kv2_noaug_CL003/label_names.npy is loaded\n",
      "/home/kv_zhao/nist-e2e/feature-analyzer/examples/featobj_mergeV1_iv3_D60kv2_noaug_CL003/landmarks.npy is loaded\n",
      "/home/kv_zhao/nist-e2e/feature-analyzer/examples/featobj_mergeV1_iv3_D60kv2_noaug_CL003/instance_ids.npy is loaded\n",
      "container size: 10000 -> 134117\n",
      "embedding size: 0 -> 512\n",
      "probability size: 0 -> 1\n",
      "landmark size: 0 -> 10\n",
      "Reset featobj_mergeV1_iv3_D60kv2_noaug_CL003\n",
      "Index Table Created\n",
      "Container initialized.\n",
      "Load embedding container from feat_obj format\n",
      "/home/kv_zhao/nist-e2e/feature-analyzer/examples/featobj_mergeV1_iv3_D60kv2_noaug_RM/embeddings.npy is loaded\n",
      "/home/kv_zhao/nist-e2e/feature-analyzer/examples/featobj_mergeV1_iv3_D60kv2_noaug_RM/label_ids.npy is loaded\n",
      "/home/kv_zhao/nist-e2e/feature-analyzer/examples/featobj_mergeV1_iv3_D60kv2_noaug_RM/filename_strings.npy is loaded\n",
      "/home/kv_zhao/nist-e2e/feature-analyzer/examples/featobj_mergeV1_iv3_D60kv2_noaug_RM/probabilities.npy is loaded\n",
      "/home/kv_zhao/nist-e2e/feature-analyzer/examples/featobj_mergeV1_iv3_D60kv2_noaug_RM/label_names.npy is loaded\n",
      "/home/kv_zhao/nist-e2e/feature-analyzer/examples/featobj_mergeV1_iv3_D60kv2_noaug_RM/landmarks.npy is loaded\n",
      "/home/kv_zhao/nist-e2e/feature-analyzer/examples/featobj_mergeV1_iv3_D60kv2_noaug_RM/instance_ids.npy is loaded\n",
      "container size: 10000 -> 134117\n",
      "embedding size: 0 -> 1024\n",
      "probability size: 0 -> 1\n",
      "landmark size: 0 -> 10\n",
      "Reset featobj_mergeV1_iv3_D60kv2_noaug_RM\n",
      "Index Table Created\n",
      "Container initialized.\n",
      "Load embedding container from feat_obj format\n",
      "/home/kv_zhao/nist-e2e/feature-analyzer/examples/featobj_mergeV1_iv3_D60kv2_noaug_RMG_GS/embeddings.npy is loaded\n",
      "/home/kv_zhao/nist-e2e/feature-analyzer/examples/featobj_mergeV1_iv3_D60kv2_noaug_RMG_GS/label_ids.npy is loaded\n",
      "/home/kv_zhao/nist-e2e/feature-analyzer/examples/featobj_mergeV1_iv3_D60kv2_noaug_RMG_GS/filename_strings.npy is loaded\n",
      "/home/kv_zhao/nist-e2e/feature-analyzer/examples/featobj_mergeV1_iv3_D60kv2_noaug_RMG_GS/probabilities.npy is loaded\n",
      "/home/kv_zhao/nist-e2e/feature-analyzer/examples/featobj_mergeV1_iv3_D60kv2_noaug_RMG_GS/label_names.npy is loaded\n",
      "/home/kv_zhao/nist-e2e/feature-analyzer/examples/featobj_mergeV1_iv3_D60kv2_noaug_RMG_GS/landmarks.npy is loaded\n",
      "/home/kv_zhao/nist-e2e/feature-analyzer/examples/featobj_mergeV1_iv3_D60kv2_noaug_RMG_GS/instance_ids.npy is loaded\n",
      "container size: 10000 -> 134117\n",
      "embedding size: 0 -> 1024\n",
      "probability size: 0 -> 1\n",
      "landmark size: 0 -> 10\n",
      "Reset featobj_mergeV1_iv3_D60kv2_noaug_RMG_GS\n",
      "Index Table Created\n",
      "Container initialized.\n",
      "Load embedding container from feat_obj format\n",
      "/home/kv_zhao/nist-e2e/feature-analyzer/examples/featobj_mergeV1_iv3_D60kv2_noaug_RMG2p_GS_final/embeddings.npy is loaded\n",
      "/home/kv_zhao/nist-e2e/feature-analyzer/examples/featobj_mergeV1_iv3_D60kv2_noaug_RMG2p_GS_final/label_ids.npy is loaded\n",
      "/home/kv_zhao/nist-e2e/feature-analyzer/examples/featobj_mergeV1_iv3_D60kv2_noaug_RMG2p_GS_final/filename_strings.npy is loaded\n",
      "/home/kv_zhao/nist-e2e/feature-analyzer/examples/featobj_mergeV1_iv3_D60kv2_noaug_RMG2p_GS_final/probabilities.npy is loaded\n",
      "/home/kv_zhao/nist-e2e/feature-analyzer/examples/featobj_mergeV1_iv3_D60kv2_noaug_RMG2p_GS_final/label_names.npy is loaded\n",
      "/home/kv_zhao/nist-e2e/feature-analyzer/examples/featobj_mergeV1_iv3_D60kv2_noaug_RMG2p_GS_final/landmarks.npy is loaded\n",
      "/home/kv_zhao/nist-e2e/feature-analyzer/examples/featobj_mergeV1_iv3_D60kv2_noaug_RMG2p_GS_final/instance_ids.npy is loaded\n",
      "container size: 10000 -> 134117\n",
      "embedding size: 0 -> 1024\n",
      "probability size: 0 -> 1\n",
      "landmark size: 0 -> 10\n",
      "Reset featobj_mergeV1_iv3_D60kv2_noaug_RMG2p_GS_final\n",
      "Index Table Created\n",
      "Container initialized.\n"
     ]
    }
   ],
   "source": [
    "ec1.load(join(feat_dir, ec1_name))\n",
    "ec2.load(join(feat_dir, ec2_name))\n",
    "ec3.load(join(feat_dir, ec3_name))\n",
    "ec4.load(join(feat_dir, ec4_name))"
   ]
  },
  {
   "cell_type": "code",
   "execution_count": 5,
   "metadata": {},
   "outputs": [],
   "source": [
    "rc1.load(join(resvar_dir, 'var_mergeV1_iv3_D60kv2_noaug_CL003'))\n",
    "rc2.load(join(resvar_dir, 'var_mergeV1_iv3_D60kv2_noaug_RM'))\n",
    "rc3.load(join(resvar_dir, 'var_mergeV1_iv3_D60kv2_noaug_RMG_GS'))\n",
    "rc4.load(join(resvar_dir, 'var_mergeV1_iv3_D60kv2_noaug_RMG2p_GS_final'))"
   ]
  },
  {
   "cell_type": "code",
   "execution_count": 6,
   "metadata": {},
   "outputs": [],
   "source": [
    "# Align three label_ids\n",
    "def get_labelmap(container):\n",
    "    inst_ids = container.instance_ids\n",
    "    lids = container.get_label_by_instance_ids(inst_ids)\n",
    "    lns = container.get_label_name_by_instance_ids(inst_ids)\n",
    "    labelmap = {l: n for l, n in zip(lids, lns)}\n",
    "    return labelmap"
   ]
  },
  {
   "cell_type": "code",
   "execution_count": 39,
   "metadata": {},
   "outputs": [],
   "source": [
    "def get_class_attribute(container):\n",
    "    inst_ids = container.instance_ids\n",
    "    lids = container.get_label_by_instance_ids(inst_ids)\n",
    "    lns = container.get_label_name_by_instance_ids(inst_ids)\n",
    "    attrs = container.get_attribute_by_instance_ids(inst_ids)\n",
    "    attrmap = {l: {\n",
    "        'name': n['identity_name'],\n",
    "        'src': n['source'],\n",
    "    } for l, n in zip(lids, attrs)}\n",
    "    return attrmap"
   ]
  },
  {
   "cell_type": "code",
   "execution_count": 7,
   "metadata": {},
   "outputs": [],
   "source": [
    "ec1_labelmap = get_labelmap(ec1)\n",
    "ec2_labelmap = get_labelmap(ec2)\n",
    "ec3_labelmap = get_labelmap(ec3)\n",
    "ec4_labelmap = get_labelmap(ec4)"
   ]
  },
  {
   "cell_type": "code",
   "execution_count": 8,
   "metadata": {},
   "outputs": [
    {
     "data": {
      "text/plain": [
       "True"
      ]
     },
     "execution_count": 8,
     "metadata": {},
     "output_type": "execute_result"
    }
   ],
   "source": [
    "ec1_labelmap == ec2_labelmap == ec3_labelmap == ec4_labelmap"
   ]
  },
  {
   "cell_type": "code",
   "execution_count": 78,
   "metadata": {},
   "outputs": [
    {
     "name": "stdout",
     "output_type": "stream",
     "text": [
      "7474 134117\n"
     ]
    }
   ],
   "source": [
    "labelmap = ec1_labelmap\n",
    "num_total_classes = len(labelmap)\n",
    "num_total_instances = len(ec1.instance_ids)\n",
    "print(num_total_classes, num_total_instances)"
   ]
  },
  {
   "cell_type": "code",
   "execution_count": 40,
   "metadata": {},
   "outputs": [],
   "source": [
    "attrmap = get_class_attribute(ec1)"
   ]
  },
  {
   "cell_type": "code",
   "execution_count": 18,
   "metadata": {},
   "outputs": [],
   "source": [
    "def get_foundation(container, results, labelmap):\n",
    "    events = results.events\n",
    "    purity_events = events[events.topk_purity == 1.0]\n",
    "    foundation_events = purity_events[purity_events.last_pos_sim >= 1.5]\n",
    "    foundation_classes = []\n",
    "    label_ids = list(map(int, foundation_events.label_id.unique()))\n",
    "    num_instance_for_label_id = {\n",
    "        label_id: len(container.get_instance_ids_by_label(label_id)) for label_id in label_ids}\n",
    "    for label_id in label_ids:\n",
    "        num_margin_event = len(foundation_events[foundation_events.label_id == label_id])\n",
    "        if num_margin_event == num_instance_for_label_id[label_id]:\n",
    "            foundation_classes.append(label_id)\n",
    "    return foundation_events, foundation_classes"
   ]
  },
  {
   "cell_type": "code",
   "execution_count": 62,
   "metadata": {},
   "outputs": [],
   "source": [
    "def get_t1(container, results, labelmap):\n",
    "    events = results.events\n",
    "    purity_events = events[events.topk_purity != 1.0]\n",
    "    return purity_events[purity_events.last_pos_sim < 1.5]"
   ]
  },
  {
   "cell_type": "code",
   "execution_count": 20,
   "metadata": {
    "scrolled": true
   },
   "outputs": [],
   "source": [
    "m1_fd_events, m1_fd_classes = get_foundation(ec1, rc1, labelmap)\n",
    "m2_fd_events, m2_fd_classes = get_foundation(ec2, rc2, labelmap)\n",
    "m3_fd_events, m3_fd_classes = get_foundation(ec3, rc3, labelmap)\n",
    "m4_fd_events, m4_fd_classes = get_foundation(ec4, rc4, labelmap)"
   ]
  },
  {
   "cell_type": "code",
   "execution_count": 24,
   "metadata": {},
   "outputs": [
    {
     "name": "stdout",
     "output_type": "stream",
     "text": [
      "Model      #of Foundation Events    #of Founcation Classes\n",
      "-------  -----------------------  ------------------------\n",
      "CL003                      82180                      4156\n",
      "RM                         82809                      4218\n",
      "RMG*                       86492                      4427\n",
      "RMG2p*                     86910                      4463\n"
     ]
    }
   ],
   "source": [
    "headerlist = ['Model', '#of Foundation Events', '#of Founcation Classes']\n",
    "tablelist = [\n",
    "    [namemap[ec1_name], len(m1_fd_events), len(m1_fd_classes)],\n",
    "    [namemap[ec2_name], len(m2_fd_events), len(m2_fd_classes)],\n",
    "    [namemap[ec3_name], len(m3_fd_events), len(m3_fd_classes)],\n",
    "    [namemap[ec4_name], len(m4_fd_events), len(m4_fd_classes)],\n",
    "]\n",
    "table = tabulate(tablelist, headerlist)\n",
    "print(table)"
   ]
  },
  {
   "cell_type": "code",
   "execution_count": 25,
   "metadata": {},
   "outputs": [],
   "source": [
    "common_fd_classes = list(\n",
    "    set(m1_fd_classes) & set(m2_fd_classes) & set(m3_fd_classes) & set(m4_fd_classes))"
   ]
  },
  {
   "cell_type": "code",
   "execution_count": 44,
   "metadata": {},
   "outputs": [
    {
     "name": "stdout",
     "output_type": "stream",
     "text": [
      "Counter({'CASIA': 1573, 'VGG': 889, '': 688, 'MS1M': 541})\n"
     ]
    }
   ],
   "source": [
    "common_fd_class_srcs = [\n",
    "    attrmap[label]['src'] for label in common_fd_classes\n",
    "]\n",
    "print(Counter(common_fd_class_srcs) )"
   ]
  },
  {
   "cell_type": "code",
   "execution_count": 59,
   "metadata": {},
   "outputs": [],
   "source": [
    "m1m4_common_fd_classes = list(set(m1_fd_classes) & set(m4_fd_classes))\n",
    "m1m4_common_fd_events = list(set(m1_fd_events.instance_id) & set(m4_fd_events.instance_id))\n",
    "m2m4_common_fd_classes = list(set(m2_fd_classes) & set(m4_fd_classes))\n",
    "m2m4_common_fd_events = list(set(m2_fd_events.instance_id) & set(m4_fd_events.instance_id))\n",
    "m3m4_common_fd_classes = list(set(m3_fd_classes) & set(m4_fd_classes))\n",
    "m3m4_common_fd_events = list(set(m3_fd_events.instance_id) & set(m4_fd_events.instance_id))"
   ]
  },
  {
   "cell_type": "code",
   "execution_count": 63,
   "metadata": {},
   "outputs": [],
   "source": [
    "m1t1 = get_t1(ec1, rc1, labelmap)\n",
    "m2t1 = get_t1(ec2, rc2, labelmap)\n",
    "m3t1 = get_t1(ec3, rc3, labelmap)\n",
    "m4t1 = get_t1(ec4, rc4, labelmap)"
   ]
  },
  {
   "cell_type": "code",
   "execution_count": 80,
   "metadata": {},
   "outputs": [
    {
     "name": "stdout",
     "output_type": "stream",
     "text": [
      "Model    [1.5, 1.45]           [1.45, 1.4]            [1.4, 1.3]             [1.3, 0.9]\n",
      "-------  --------------------  ---------------------  ---------------------  ---------------------\n",
      "CL003    373/134117 (0.00278)  1891/134117 (0.01410)  8584/134117 (0.06400)  9102/134117 (0.06787)\n",
      "RM       324/134117 (0.00242)  1067/134117 (0.00796)  6672/134117 (0.04975)  9362/134117 (0.06980)\n",
      "RMG*     224/134117 (0.00167)  928/134117 (0.00692)   5989/134117 (0.04466)  8872/134117 (0.06615)\n",
      "RMG2p*   201/134117 (0.00150)  853/134117 (0.00636)   5577/134117 (0.04158)  8823/134117 (0.06579)\n"
     ]
    }
   ],
   "source": [
    "sim_ranges = [(1.5, 1.45), (1.45, 1.4), (1.4, 1.3), (1.3, 0.9)]\n",
    "headerlist = ['Model', '[1.5, 1.45]', '[1.45, 1.4]', '[1.4, 1.3]', '[1.3, 0.9]']\n",
    "tablelist = []\n",
    "for name, events in zip([ec1_name, ec2_name, ec3_name, ec4_name], [m1t1, m2t1, m3t1, m4t1]):\n",
    "    vals = [namemap[name]]\n",
    "    for r in sim_ranges:\n",
    "        sim_in_between= events[events.last_pos_sim.between(r[1], r[0])]\n",
    "        vals.append('{}/{} ({:02.5f})'.format(len(sim_in_between), num_total_instances, len(sim_in_between) / num_total_instances))\n",
    "    tablelist.append(vals)\n",
    "table = tabulate(tablelist, headerlist)\n",
    "print(table)"
   ]
  },
  {
   "cell_type": "code",
   "execution_count": 89,
   "metadata": {},
   "outputs": [
    {
     "data": {
      "text/plain": [
       "<matplotlib.legend.Legend at 0x7f5208b52518>"
      ]
     },
     "execution_count": 89,
     "metadata": {},
     "output_type": "execute_result"
    },
    {
     "data": {
      "image/png": "[encoded data removed]",
      "text/plain": [
       "<Figure size 432x288 with 1 Axes>"
      ]
     },
     "metadata": {
      "needs_background": "light"
     },
     "output_type": "display_data"
    }
   ],
   "source": [
    "sns.distplot(m1_fd_events.top2k_margin)\n",
    "sns.distplot(m2_fd_events.top2k_margin)\n",
    "sns.distplot(m3_fd_events.top2k_margin)\n",
    "sns.distplot(m4_fd_events.top2k_margin)\n",
    "plt.legend(labels=[\n",
    "    namemap[ec1_name],\n",
    "    namemap[ec2_name],\n",
    "    namemap[ec3_name],\n",
    "    namemap[ec4_name],\n",
    "])"
   ]
  },
  {
   "cell_type": "code",
   "execution_count": null,
   "metadata": {},
   "outputs": [],
   "source": []
  }
 ],
 "metadata": {
  "kernelspec": {
   "display_name": "Python 3",
   "language": "python",
   "name": "python3"
  },
  "language_info": {
   "codemirror_mode": {
    "name": "ipython",
    "version": 3
   },
   "file_extension": ".py",
   "mimetype": "text/x-python",
   "name": "python",
   "nbconvert_exporter": "python",
   "pygments_lexer": "ipython3",
   "version": "3.6.8"
  }
 },
 "nbformat": 4,
 "nbformat_minor": 2
}
