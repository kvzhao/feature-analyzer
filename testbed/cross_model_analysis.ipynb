{
 "cells": [
  {
   "cell_type": "code",
   "execution_count": 1,
   "metadata": {},
   "outputs": [],
   "source": [
    "import os\n",
    "import sys\n",
    "import numpy as np\n",
    "from os.path import join\n",
    "from os.path import basename\n",
    "from tqdm import tqdm\n",
    "from tabulate import tabulate\n",
    "from collections import Counter\n",
    "from feature_analyzer.data_tools.embedding_container import EmbeddingContainer\n",
    "from feature_analyzer.data_tools.result_container import ResultContainer\n",
    "\n",
    "import pandas as pd\n",
    "import seaborn as sns\n",
    "import matplotlib.pyplot as plt"
   ]
  },
  {
   "cell_type": "code",
   "execution_count": 2,
   "metadata": {},
   "outputs": [],
   "source": [
    "root_dir = '/home/kv_zhao/nist-e2e/feature-analyzer'\n",
    "feat_dir = join(root_dir, 'examples')\n",
    "resvar_dir = join(root_dir, 'results_variance')"
   ]
  },
  {
   "cell_type": "code",
   "execution_count": 3,
   "metadata": {},
   "outputs": [
    {
     "name": "stdout",
     "output_type": "stream",
     "text": [
      "Container:featobj_mergeV1_iv3_D60kv2_noaug_CL003 created\n",
      "Container:featobj_mergeV1_iv3_D60kv2_noaug_RM created\n",
      "Container:featobj_mergeV1_iv3_D60kv2_noaug_RMG created\n",
      "Container:featobj_mergeV1_iv3_D60kv2_noaug_RMG_GS created\n",
      "Container:featobj_mergeV1_iv3_D60kv2_noaug_RMG2p_GS_final created\n",
      "Container:featobj_mergeV1_iv3_D60kv2_noaug_RSEMG2p_GS created\n"
     ]
    }
   ],
   "source": [
    "ec1_name = 'featobj_mergeV1_iv3_D60kv2_noaug_CL003'\n",
    "ec2_name = 'featobj_mergeV1_iv3_D60kv2_noaug_RM'\n",
    "ec3_name = 'featobj_mergeV1_iv3_D60kv2_noaug_RMG'\n",
    "ec4_name = 'featobj_mergeV1_iv3_D60kv2_noaug_RMG_GS'\n",
    "ec5_name = 'featobj_mergeV1_iv3_D60kv2_noaug_RMG2p_GS_final'\n",
    "ec6_name = 'featobj_mergeV1_iv3_D60kv2_noaug_RSEMG2p_GS'\n",
    "# embeddings\n",
    "ec1 = EmbeddingContainer(name=ec1_name)\n",
    "ec2 = EmbeddingContainer(name=ec2_name)\n",
    "ec3 = EmbeddingContainer(name=ec3_name)\n",
    "ec4 = EmbeddingContainer(name=ec4_name)\n",
    "ec5 = EmbeddingContainer(name=ec5_name)\n",
    "ec6 = EmbeddingContainer(name=ec6_name)\n",
    "# results\n",
    "rc1 = ResultContainer()\n",
    "rc2 = ResultContainer()\n",
    "rc3 = ResultContainer()\n",
    "rc4 = ResultContainer()\n",
    "rc5 = ResultContainer()\n",
    "rc6 = ResultContainer()"
   ]
  },
  {
   "cell_type": "code",
   "execution_count": 4,
   "metadata": {},
   "outputs": [],
   "source": [
    "namemap = {\n",
    "    ec1_name: 'CL003',\n",
    "    ec2_name: 'RM',\n",
    "    ec3_name: 'RMG',\n",
    "    ec4_name: 'RMG*',\n",
    "    ec5_name: 'RMG2p*',\n",
    "    ec6_name: 'RSEMG2p*',\n",
    "}"
   ]
  },
  {
   "cell_type": "code",
   "execution_count": 47,
   "metadata": {},
   "outputs": [],
   "source": [
    "model_names = [\n",
    "    ec1_name,\n",
    "    ec2_name,\n",
    "    ec3_name,\n",
    "    ec4_name,\n",
    "    ec5_name,\n",
    "    ec6_name\n",
    "]"
   ]
  },
  {
   "cell_type": "code",
   "execution_count": 5,
   "metadata": {},
   "outputs": [
    {
     "name": "stdout",
     "output_type": "stream",
     "text": [
      "Load embedding container from feat_obj format\n",
      "/home/kv_zhao/nist-e2e/feature-analyzer/examples/featobj_mergeV1_iv3_D60kv2_noaug_CL003/embeddings.npy is loaded\n",
      "/home/kv_zhao/nist-e2e/feature-analyzer/examples/featobj_mergeV1_iv3_D60kv2_noaug_CL003/label_ids.npy is loaded\n",
      "/home/kv_zhao/nist-e2e/feature-analyzer/examples/featobj_mergeV1_iv3_D60kv2_noaug_CL003/filename_strings.npy is loaded\n",
      "/home/kv_zhao/nist-e2e/feature-analyzer/examples/featobj_mergeV1_iv3_D60kv2_noaug_CL003/probabilities.npy is loaded\n",
      "/home/kv_zhao/nist-e2e/feature-analyzer/examples/featobj_mergeV1_iv3_D60kv2_noaug_CL003/label_names.npy is loaded\n",
      "/home/kv_zhao/nist-e2e/feature-analyzer/examples/featobj_mergeV1_iv3_D60kv2_noaug_CL003/landmarks.npy is loaded\n",
      "/home/kv_zhao/nist-e2e/feature-analyzer/examples/featobj_mergeV1_iv3_D60kv2_noaug_CL003/instance_ids.npy is loaded\n",
      "container size: 10000 -> 134117\n",
      "embedding size: 0 -> 512\n",
      "probability size: 0 -> 1\n",
      "landmark size: 0 -> 10\n",
      "Reset featobj_mergeV1_iv3_D60kv2_noaug_CL003\n",
      "Index Table Created\n",
      "Container initialized.\n",
      "Load embedding container from feat_obj format\n",
      "/home/kv_zhao/nist-e2e/feature-analyzer/examples/featobj_mergeV1_iv3_D60kv2_noaug_RM/embeddings.npy is loaded\n",
      "/home/kv_zhao/nist-e2e/feature-analyzer/examples/featobj_mergeV1_iv3_D60kv2_noaug_RM/label_ids.npy is loaded\n",
      "/home/kv_zhao/nist-e2e/feature-analyzer/examples/featobj_mergeV1_iv3_D60kv2_noaug_RM/filename_strings.npy is loaded\n",
      "/home/kv_zhao/nist-e2e/feature-analyzer/examples/featobj_mergeV1_iv3_D60kv2_noaug_RM/probabilities.npy is loaded\n",
      "/home/kv_zhao/nist-e2e/feature-analyzer/examples/featobj_mergeV1_iv3_D60kv2_noaug_RM/label_names.npy is loaded\n",
      "/home/kv_zhao/nist-e2e/feature-analyzer/examples/featobj_mergeV1_iv3_D60kv2_noaug_RM/landmarks.npy is loaded\n",
      "/home/kv_zhao/nist-e2e/feature-analyzer/examples/featobj_mergeV1_iv3_D60kv2_noaug_RM/instance_ids.npy is loaded\n",
      "container size: 10000 -> 134117\n",
      "embedding size: 0 -> 1024\n",
      "probability size: 0 -> 1\n",
      "landmark size: 0 -> 10\n",
      "Reset featobj_mergeV1_iv3_D60kv2_noaug_RM\n",
      "Index Table Created\n",
      "Container initialized.\n",
      "Load embedding container from feat_obj format\n",
      "/home/kv_zhao/nist-e2e/feature-analyzer/examples/featobj_mergeV1_iv3_D60kv2_noaug_RMG/embeddings.npy is loaded\n",
      "/home/kv_zhao/nist-e2e/feature-analyzer/examples/featobj_mergeV1_iv3_D60kv2_noaug_RMG/label_ids.npy is loaded\n",
      "/home/kv_zhao/nist-e2e/feature-analyzer/examples/featobj_mergeV1_iv3_D60kv2_noaug_RMG/filename_strings.npy is loaded\n",
      "/home/kv_zhao/nist-e2e/feature-analyzer/examples/featobj_mergeV1_iv3_D60kv2_noaug_RMG/probabilities.npy is loaded\n",
      "/home/kv_zhao/nist-e2e/feature-analyzer/examples/featobj_mergeV1_iv3_D60kv2_noaug_RMG/label_names.npy is loaded\n",
      "/home/kv_zhao/nist-e2e/feature-analyzer/examples/featobj_mergeV1_iv3_D60kv2_noaug_RMG/landmarks.npy is loaded\n",
      "/home/kv_zhao/nist-e2e/feature-analyzer/examples/featobj_mergeV1_iv3_D60kv2_noaug_RMG/instance_ids.npy is loaded\n",
      "container size: 10000 -> 134117\n",
      "embedding size: 0 -> 1024\n",
      "probability size: 0 -> 1\n",
      "landmark size: 0 -> 10\n",
      "Reset featobj_mergeV1_iv3_D60kv2_noaug_RMG\n",
      "Index Table Created\n",
      "Container initialized.\n",
      "Load embedding container from feat_obj format\n",
      "/home/kv_zhao/nist-e2e/feature-analyzer/examples/featobj_mergeV1_iv3_D60kv2_noaug_RMG_GS/embeddings.npy is loaded\n",
      "/home/kv_zhao/nist-e2e/feature-analyzer/examples/featobj_mergeV1_iv3_D60kv2_noaug_RMG_GS/label_ids.npy is loaded\n",
      "/home/kv_zhao/nist-e2e/feature-analyzer/examples/featobj_mergeV1_iv3_D60kv2_noaug_RMG_GS/filename_strings.npy is loaded\n",
      "/home/kv_zhao/nist-e2e/feature-analyzer/examples/featobj_mergeV1_iv3_D60kv2_noaug_RMG_GS/probabilities.npy is loaded\n",
      "/home/kv_zhao/nist-e2e/feature-analyzer/examples/featobj_mergeV1_iv3_D60kv2_noaug_RMG_GS/label_names.npy is loaded\n",
      "/home/kv_zhao/nist-e2e/feature-analyzer/examples/featobj_mergeV1_iv3_D60kv2_noaug_RMG_GS/landmarks.npy is loaded\n",
      "/home/kv_zhao/nist-e2e/feature-analyzer/examples/featobj_mergeV1_iv3_D60kv2_noaug_RMG_GS/instance_ids.npy is loaded\n",
      "container size: 10000 -> 134117\n",
      "embedding size: 0 -> 1024\n",
      "probability size: 0 -> 1\n",
      "landmark size: 0 -> 10\n",
      "Reset featobj_mergeV1_iv3_D60kv2_noaug_RMG_GS\n",
      "Index Table Created\n",
      "Container initialized.\n",
      "Load embedding container from feat_obj format\n",
      "/home/kv_zhao/nist-e2e/feature-analyzer/examples/featobj_mergeV1_iv3_D60kv2_noaug_RMG2p_GS_final/embeddings.npy is loaded\n",
      "/home/kv_zhao/nist-e2e/feature-analyzer/examples/featobj_mergeV1_iv3_D60kv2_noaug_RMG2p_GS_final/label_ids.npy is loaded\n",
      "/home/kv_zhao/nist-e2e/feature-analyzer/examples/featobj_mergeV1_iv3_D60kv2_noaug_RMG2p_GS_final/filename_strings.npy is loaded\n",
      "/home/kv_zhao/nist-e2e/feature-analyzer/examples/featobj_mergeV1_iv3_D60kv2_noaug_RMG2p_GS_final/probabilities.npy is loaded\n",
      "/home/kv_zhao/nist-e2e/feature-analyzer/examples/featobj_mergeV1_iv3_D60kv2_noaug_RMG2p_GS_final/label_names.npy is loaded\n",
      "/home/kv_zhao/nist-e2e/feature-analyzer/examples/featobj_mergeV1_iv3_D60kv2_noaug_RMG2p_GS_final/landmarks.npy is loaded\n",
      "/home/kv_zhao/nist-e2e/feature-analyzer/examples/featobj_mergeV1_iv3_D60kv2_noaug_RMG2p_GS_final/instance_ids.npy is loaded\n",
      "container size: 10000 -> 134117\n",
      "embedding size: 0 -> 1024\n",
      "probability size: 0 -> 1\n",
      "landmark size: 0 -> 10\n",
      "Reset featobj_mergeV1_iv3_D60kv2_noaug_RMG2p_GS_final\n",
      "Index Table Created\n",
      "Container initialized.\n"
     ]
    }
   ],
   "source": [
    "ec1.load(join(feat_dir, ec1_name))\n",
    "ec2.load(join(feat_dir, ec2_name))\n",
    "ec3.load(join(feat_dir, ec3_name))\n",
    "ec4.load(join(feat_dir, ec4_name))\n",
    "ec5.load(join(feat_dir, ec5_name))\n",
    "ec6.load(join(feat_dir, ec6_name))"
   ]
  },
  {
   "cell_type": "code",
   "execution_count": 6,
   "metadata": {},
   "outputs": [],
   "source": [
    "rc1.load(join(resvar_dir, 'var_mergeV1_iv3_D60kv2_noaug_CL003'))\n",
    "rc2.load(join(resvar_dir, 'var_mergeV1_iv3_D60kv2_noaug_RM'))\n",
    "rc3.load(join(resvar_dir, 'var_mergeV1_iv3_D60kv2_noaug_RMG'))\n",
    "rc4.load(join(resvar_dir, 'var_mergeV1_iv3_D60kv2_noaug_RMG_GS'))\n",
    "rc5.load(join(resvar_dir, 'var_mergeV1_iv3_D60kv2_noaug_RMG2p_GS_final'))\n",
    "rc6.load(join(resvar_dir, 'var_mergeV1_iv3_D60kv2_noaug_iv3_RSEMG2p_GS'))"
   ]
  },
  {
   "cell_type": "code",
   "execution_count": 7,
   "metadata": {},
   "outputs": [],
   "source": [
    "# Align three label_ids\n",
    "def get_labelmap(container):\n",
    "    inst_ids = container.instance_ids\n",
    "    lids = container.get_label_by_instance_ids(inst_ids)\n",
    "    lns = container.get_label_name_by_instance_ids(inst_ids)\n",
    "    labelmap = {l: n for l, n in zip(lids, lns)}\n",
    "    return labelmap"
   ]
  },
  {
   "cell_type": "code",
   "execution_count": 8,
   "metadata": {},
   "outputs": [],
   "source": [
    "def get_class_attribute(container):\n",
    "    inst_ids = container.instance_ids\n",
    "    lids = container.get_label_by_instance_ids(inst_ids)\n",
    "    lns = container.get_label_name_by_instance_ids(inst_ids)\n",
    "    attrs = container.get_attribute_by_instance_ids(inst_ids)\n",
    "    attrmap = {l: {\n",
    "        'label_id': l,\n",
    "        'name': n['identity_name'],\n",
    "        'src': n['source'],\n",
    "        'folder': f,\n",
    "    } for l, f, n in zip(lids, lns, attrs)}\n",
    "    return attrmap"
   ]
  },
  {
   "cell_type": "code",
   "execution_count": 9,
   "metadata": {},
   "outputs": [],
   "source": [
    "ec1_labelmap = get_labelmap(ec1)\n",
    "ec2_labelmap = get_labelmap(ec2)\n",
    "ec3_labelmap = get_labelmap(ec3)\n",
    "ec4_labelmap = get_labelmap(ec4)\n",
    "ec5_labelmap = get_labelmap(ec5)\n",
    "ec6_labelmap = get_labelmap(ec6)"
   ]
  },
  {
   "cell_type": "code",
   "execution_count": 89,
   "metadata": {},
   "outputs": [],
   "source": [
    "ec6_labelmap = get_labelmap(ec6)"
   ]
  },
  {
   "cell_type": "code",
   "execution_count": 91,
   "metadata": {},
   "outputs": [
    {
     "data": {
      "text/plain": [
       "True"
      ]
     },
     "execution_count": 91,
     "metadata": {},
     "output_type": "execute_result"
    }
   ],
   "source": [
    "ec1_labelmap == ec2_labelmap == ec3_labelmap == ec4_labelmap == ec5_labelmap == ec6_labelmap"
   ]
  },
  {
   "cell_type": "code",
   "execution_count": 11,
   "metadata": {},
   "outputs": [
    {
     "name": "stdout",
     "output_type": "stream",
     "text": [
      "7474 134117\n"
     ]
    }
   ],
   "source": [
    "labelmap = ec1_labelmap\n",
    "num_total_classes = len(labelmap)\n",
    "num_total_instances = len(ec1.instance_ids)\n",
    "print(num_total_classes, num_total_instances)"
   ]
  },
  {
   "cell_type": "code",
   "execution_count": 12,
   "metadata": {},
   "outputs": [],
   "source": [
    "num_instance_for_label_id = {\n",
    "    label_id: len(ec1.get_instance_ids_by_label(label_id)) for label_id in list(set(ec1.label_ids))}"
   ]
  },
  {
   "cell_type": "code",
   "execution_count": 13,
   "metadata": {},
   "outputs": [],
   "source": [
    "attrmap = get_class_attribute(ec1)"
   ]
  },
  {
   "cell_type": "code",
   "execution_count": 14,
   "metadata": {},
   "outputs": [],
   "source": [
    "dataset = pd.DataFrame.from_dict(attrmap, orient='index')\n",
    "dataset['num_instance'] = dataset.apply(lambda x: num_instance_for_label_id[int(x.label_id)], axis=1)"
   ]
  },
  {
   "cell_type": "code",
   "execution_count": 15,
   "metadata": {},
   "outputs": [
    {
     "data": {
      "text/html": [
       "<div>\n",
       "<style scoped>\n",
       "    .dataframe tbody tr th:only-of-type {\n",
       "        vertical-align: middle;\n",
       "    }\n",
       "\n",
       "    .dataframe tbody tr th {\n",
       "        vertical-align: top;\n",
       "    }\n",
       "\n",
       "    .dataframe thead th {\n",
       "        text-align: right;\n",
       "    }\n",
       "</style>\n",
       "<table border=\"1\" class=\"dataframe\">\n",
       "  <thead>\n",
       "    <tr style=\"text-align: right;\">\n",
       "      <th></th>\n",
       "      <th>label_id</th>\n",
       "      <th>name</th>\n",
       "      <th>src</th>\n",
       "      <th>folder</th>\n",
       "      <th>num_instance</th>\n",
       "    </tr>\n",
       "  </thead>\n",
       "  <tbody>\n",
       "    <tr>\n",
       "      <th>0</th>\n",
       "      <td>0</td>\n",
       "      <td>Dave_Vescio</td>\n",
       "      <td>CASIA</td>\n",
       "      <td>2057822</td>\n",
       "      <td>3</td>\n",
       "    </tr>\n",
       "    <tr>\n",
       "      <th>1</th>\n",
       "      <td>1</td>\n",
       "      <td>Ayuko_Izumi</td>\n",
       "      <td>CASIA</td>\n",
       "      <td>6305385</td>\n",
       "      <td>5</td>\n",
       "    </tr>\n",
       "    <tr>\n",
       "      <th>2</th>\n",
       "      <td>2</td>\n",
       "      <td>\"Dan_Bárta\"</td>\n",
       "      <td>VGG</td>\n",
       "      <td>n001889</td>\n",
       "      <td>26</td>\n",
       "    </tr>\n",
       "    <tr>\n",
       "      <th>3</th>\n",
       "      <td>3</td>\n",
       "      <td>Ang Lee</td>\n",
       "      <td>MS1M</td>\n",
       "      <td>m.0h1p</td>\n",
       "      <td>43</td>\n",
       "    </tr>\n",
       "    <tr>\n",
       "      <th>4</th>\n",
       "      <td>4</td>\n",
       "      <td>0258360</td>\n",
       "      <td></td>\n",
       "      <td>0258360</td>\n",
       "      <td>8</td>\n",
       "    </tr>\n",
       "    <tr>\n",
       "      <th>...</th>\n",
       "      <td>...</td>\n",
       "      <td>...</td>\n",
       "      <td>...</td>\n",
       "      <td>...</td>\n",
       "      <td>...</td>\n",
       "    </tr>\n",
       "    <tr>\n",
       "      <th>7469</th>\n",
       "      <td>7469</td>\n",
       "      <td>Lee Seung-gi</td>\n",
       "      <td>MS1M</td>\n",
       "      <td>m.049grkn</td>\n",
       "      <td>20</td>\n",
       "    </tr>\n",
       "    <tr>\n",
       "      <th>7470</th>\n",
       "      <td>7470</td>\n",
       "      <td>Alexandra_Godinez</td>\n",
       "      <td>CASIA</td>\n",
       "      <td>4893225</td>\n",
       "      <td>2</td>\n",
       "    </tr>\n",
       "    <tr>\n",
       "      <th>7471</th>\n",
       "      <td>7471</td>\n",
       "      <td>Anna the Prophetess</td>\n",
       "      <td>MS1M</td>\n",
       "      <td>m.0329l4</td>\n",
       "      <td>2</td>\n",
       "    </tr>\n",
       "    <tr>\n",
       "      <th>7472</th>\n",
       "      <td>7472</td>\n",
       "      <td>\"Günther_Jauch\"</td>\n",
       "      <td>VGG</td>\n",
       "      <td>n003283</td>\n",
       "      <td>104</td>\n",
       "    </tr>\n",
       "    <tr>\n",
       "      <th>7473</th>\n",
       "      <td>7473</td>\n",
       "      <td>Kerry_Knuppe</td>\n",
       "      <td>CASIA</td>\n",
       "      <td>1944279</td>\n",
       "      <td>4</td>\n",
       "    </tr>\n",
       "  </tbody>\n",
       "</table>\n",
       "<p>7474 rows × 5 columns</p>\n",
       "</div>"
      ],
      "text/plain": [
       "      label_id                 name    src     folder  num_instance\n",
       "0            0          Dave_Vescio  CASIA    2057822             3\n",
       "1            1          Ayuko_Izumi  CASIA    6305385             5\n",
       "2            2          \"Dan_Bárta\"    VGG    n001889            26\n",
       "3            3              Ang Lee   MS1M     m.0h1p            43\n",
       "4            4              0258360           0258360             8\n",
       "...        ...                  ...    ...        ...           ...\n",
       "7469      7469         Lee Seung-gi   MS1M  m.049grkn            20\n",
       "7470      7470    Alexandra_Godinez  CASIA    4893225             2\n",
       "7471      7471  Anna the Prophetess   MS1M   m.0329l4             2\n",
       "7472      7472      \"Günther_Jauch\"    VGG    n003283           104\n",
       "7473      7473         Kerry_Knuppe  CASIA    1944279             4\n",
       "\n",
       "[7474 rows x 5 columns]"
      ]
     },
     "execution_count": 15,
     "metadata": {},
     "output_type": "execute_result"
    }
   ],
   "source": [
    "dataset"
   ]
  },
  {
   "cell_type": "code",
   "execution_count": 16,
   "metadata": {},
   "outputs": [],
   "source": [
    "def get_foundation(container, results, labelmap):\n",
    "    events = results.events\n",
    "    purity_events = events[events.topk_purity == 1.0]\n",
    "    foundation_events = purity_events[purity_events.last_pos_sim >= 1.5]\n",
    "    foundation_classes = []\n",
    "    label_ids = list(map(int, foundation_events.label_id.unique()))\n",
    "    num_instance_for_label_id = {\n",
    "        label_id: len(container.get_instance_ids_by_label(label_id)) for label_id in label_ids}\n",
    "    for label_id in label_ids:\n",
    "        num_margin_event = len(foundation_events[foundation_events.label_id == label_id])\n",
    "        if num_margin_event == num_instance_for_label_id[label_id]:\n",
    "            foundation_classes.append(label_id)\n",
    "    return foundation_events, foundation_classes"
   ]
  },
  {
   "cell_type": "code",
   "execution_count": 129,
   "metadata": {},
   "outputs": [],
   "source": [
    "def seperate_type(container, results, attrmap):\n",
    "    events = results.events\n",
    "    events['folder_name'] = events.apply(lambda x: attrmap[int(x.label_id)]['folder'], axis=1)\n",
    "    t1 = events[events.topk_purity == 1.0]\n",
    "    t2 = events[events.topk_purity != 1.0]\n",
    "    return t1, t2"
   ]
  },
  {
   "cell_type": "code",
   "execution_count": 18,
   "metadata": {},
   "outputs": [],
   "source": [
    "def _percent(num_target, num_total):\n",
    "    _str = '{}/{} ({:.2f}%)'.format(\n",
    "        num_target,\n",
    "        num_total,\n",
    "        100 * (num_target / (num_total + 1e-8))\n",
    "    )\n",
    "    return _str"
   ]
  },
  {
   "cell_type": "code",
   "execution_count": 19,
   "metadata": {
    "scrolled": true
   },
   "outputs": [],
   "source": [
    "m1_fd_events, m1_fd_classes = get_foundation(ec1, rc1, labelmap)\n",
    "m2_fd_events, m2_fd_classes = get_foundation(ec2, rc2, labelmap)\n",
    "m3_fd_events, m3_fd_classes = get_foundation(ec3, rc3, labelmap)\n",
    "m4_fd_events, m4_fd_classes = get_foundation(ec4, rc4, labelmap)\n",
    "m5_fd_events, m5_fd_classes = get_foundation(ec5, rc5, labelmap)\n",
    "m6_fd_events, m6_fd_classes = get_foundation(ec6, rc6, labelmap)"
   ]
  },
  {
   "cell_type": "code",
   "execution_count": 92,
   "metadata": {},
   "outputs": [
    {
     "name": "stdout",
     "output_type": "stream",
     "text": [
      "Model       #of Foundation Events    #of Founcation Classes\n",
      "--------  -----------------------  ------------------------\n",
      "CL003                       82180                      4156\n",
      "RM                          82809                      4218\n",
      "RMG                         86468                      4450\n",
      "RMG*                        86492                      4427\n",
      "RMG2p*                      86910                      4463\n",
      "RSEMG2p*                    88861                      4535\n"
     ]
    }
   ],
   "source": [
    "headerlist = ['Model', '#of Foundation Events', '#of Founcation Classes']\n",
    "tablelist = [\n",
    "    [namemap[ec1_name], len(m1_fd_events), len(m1_fd_classes)],\n",
    "    [namemap[ec2_name], len(m2_fd_events), len(m2_fd_classes)],\n",
    "    [namemap[ec3_name], len(m3_fd_events), len(m3_fd_classes)],\n",
    "    [namemap[ec4_name], len(m4_fd_events), len(m4_fd_classes)],\n",
    "    [namemap[ec5_name], len(m5_fd_events), len(m5_fd_classes)],\n",
    "    [namemap[ec6_name], len(m6_fd_events), len(m6_fd_classes)],\n",
    "]\n",
    "table = tabulate(tablelist, headerlist)\n",
    "print(table)"
   ]
  },
  {
   "cell_type": "markdown",
   "metadata": {},
   "source": [
    "## Foundation Events & Classes"
   ]
  },
  {
   "cell_type": "code",
   "execution_count": 93,
   "metadata": {},
   "outputs": [
    {
     "name": "stdout",
     "output_type": "stream",
     "text": [
      "Model     #of Foundation Events    #of Founcation Classes\n",
      "--------  -----------------------  ------------------------\n",
      "CL003     82180/134117 (61.27%)    4156/7474 (55.61%)\n",
      "RM        82809/134117 (61.74%)    4218/7474 (56.44%)\n",
      "RMG       86468/134117 (64.47%)    4450/7474 (59.54%)\n",
      "RMG*      86492/134117 (64.49%)    4427/7474 (59.23%)\n",
      "RMG2p*    86910/134117 (64.80%)    4463/7474 (59.71%)\n",
      "RSEMG2p*  88861/134117 (66.26%)    4535/7474 (60.68%)\n"
     ]
    }
   ],
   "source": [
    "headerlist = ['Model', '#of Foundation Events', '#of Founcation Classes']\n",
    "tablelist = [\n",
    "    [namemap[ec1_name], _percent(len(m1_fd_events), num_total_instances), _percent(len(m1_fd_classes), num_total_classes)],\n",
    "    [namemap[ec2_name], _percent(len(m2_fd_events), num_total_instances), _percent(len(m2_fd_classes), num_total_classes)],\n",
    "    [namemap[ec3_name], _percent(len(m3_fd_events), num_total_instances), _percent(len(m3_fd_classes), num_total_classes)],\n",
    "    [namemap[ec4_name], _percent(len(m4_fd_events), num_total_instances), _percent(len(m4_fd_classes), num_total_classes)],\n",
    "    [namemap[ec5_name], _percent(len(m5_fd_events), num_total_instances), _percent(len(m5_fd_classes), num_total_classes)],\n",
    "    [namemap[ec6_name], _percent(len(m6_fd_events), num_total_instances), _percent(len(m6_fd_classes), num_total_classes)],\n",
    "]\n",
    "table = tabulate(tablelist, headerlist)\n",
    "print(table)"
   ]
  },
  {
   "cell_type": "code",
   "execution_count": 22,
   "metadata": {},
   "outputs": [],
   "source": [
    "common_fd_classes = list(\n",
    "    set(m1_fd_classes) & set(m2_fd_classes) & set(m3_fd_classes) & set(m4_fd_classes))"
   ]
  },
  {
   "cell_type": "code",
   "execution_count": 23,
   "metadata": {},
   "outputs": [
    {
     "name": "stdout",
     "output_type": "stream",
     "text": [
      "3671\n"
     ]
    }
   ],
   "source": [
    "print(len(common_fd_classes))"
   ]
  },
  {
   "cell_type": "code",
   "execution_count": 24,
   "metadata": {},
   "outputs": [
    {
     "name": "stdout",
     "output_type": "stream",
     "text": [
      "9.716426041950422 5.0\n",
      "941\n"
     ]
    }
   ],
   "source": [
    "common_fd_class_nums = np.asarray([num_instance_for_label_id[_id] for _id in common_fd_classes])\n",
    "print(np.mean(common_fd_class_nums), np.median(common_fd_class_nums))\n",
    "print(np.sum(common_fd_class_nums > 11))"
   ]
  },
  {
   "cell_type": "code",
   "execution_count": 25,
   "metadata": {},
   "outputs": [],
   "source": [
    "def foundation_class_statistics(fd_classes):\n",
    "    fd_class_nums = np.asarray([num_instance_for_label_id[_id] for _id in fd_classes])\n",
    "    print(np.mean(fd_class_nums), np.median(fd_class_nums))\n",
    "    print(np.sum(fd_class_nums > 11))"
   ]
  },
  {
   "cell_type": "code",
   "execution_count": 94,
   "metadata": {},
   "outputs": [
    {
     "name": "stdout",
     "output_type": "stream",
     "text": [
      "9.716426041950422 5.0\n",
      "941\n",
      "10.370307988450433 6.0\n",
      "1170\n",
      "10.720483641536273 6.0\n",
      "1208\n",
      "11.183595505617978 6.0\n",
      "1365\n",
      "11.251185904675852 6.0\n",
      "1368\n",
      "11.083352005377549 6.0\n",
      "1367\n",
      "11.371334068357221 6.0\n",
      "1419\n"
     ]
    }
   ],
   "source": [
    "foundation_class_statistics(common_fd_classes)\n",
    "foundation_class_statistics(m1_fd_classes)\n",
    "foundation_class_statistics(m2_fd_classes)\n",
    "foundation_class_statistics(m3_fd_classes)\n",
    "foundation_class_statistics(m4_fd_classes)\n",
    "foundation_class_statistics(m5_fd_classes)\n",
    "foundation_class_statistics(m6_fd_classes)"
   ]
  },
  {
   "cell_type": "code",
   "execution_count": 27,
   "metadata": {},
   "outputs": [
    {
     "name": "stdout",
     "output_type": "stream",
     "text": [
      "Counter({'CASIA': 1561, 'VGG': 891, '': 680, 'MS1M': 539})\n"
     ]
    }
   ],
   "source": [
    "common_fd_class_srcs = [\n",
    "    attrmap[label]['src'] for label in common_fd_classes\n",
    "]\n",
    "print(Counter(common_fd_class_srcs) )"
   ]
  },
  {
   "cell_type": "code",
   "execution_count": 28,
   "metadata": {},
   "outputs": [],
   "source": [
    "common_fd_class_names = [\n",
    "    attrmap[label]['folder'] for label in common_fd_classes\n",
    "]"
   ]
  },
  {
   "cell_type": "code",
   "execution_count": 130,
   "metadata": {},
   "outputs": [],
   "source": [
    "m1t1, m1t2 = seperate_type(ec1, rc1, attrmap)\n",
    "m2t1, m2t2 = seperate_type(ec2, rc2, attrmap)\n",
    "m3t1, m3t2 = seperate_type(ec3, rc3, attrmap)\n",
    "m4t1, m4t2 = seperate_type(ec4, rc4, attrmap)\n",
    "m5t1, m5t2 = seperate_type(ec5, rc5, attrmap)\n",
    "m6t1, m6t2 = seperate_type(ec6, rc6, attrmap)"
   ]
  },
  {
   "cell_type": "code",
   "execution_count": 185,
   "metadata": {},
   "outputs": [],
   "source": [
    "t1_events = [\n",
    "    m1t1,\n",
    "    m2t1,\n",
    "    m3t1,\n",
    "    m4t1,\n",
    "    m5t1,\n",
    "    m6t1,\n",
    "]"
   ]
  },
  {
   "cell_type": "code",
   "execution_count": 132,
   "metadata": {},
   "outputs": [],
   "source": [
    "t2_events = [\n",
    "    m1t2,\n",
    "    m2t2,\n",
    "    m3t2,\n",
    "    m4t2,\n",
    "    m5t2,\n",
    "    m6t2,\n",
    "]"
   ]
  },
  {
   "cell_type": "code",
   "execution_count": 186,
   "metadata": {},
   "outputs": [
    {
     "name": "stdout",
     "output_type": "stream",
     "text": [
      "107767\n",
      "0.8035297538716195\n"
     ]
    }
   ],
   "source": [
    "common_t1_instance_ids = set(ec1.instance_ids)\n",
    "for e in t1_events:\n",
    "    common_t1_instance_ids &= set(e.instance_id)\n",
    "common_t1_instance_ids = list(common_t1_instance_ids)\n",
    "print(len(common_t1_instance_ids))\n",
    "print(len(common_t1_instance_ids) / num_total_instances)"
   ]
  },
  {
   "cell_type": "code",
   "execution_count": 182,
   "metadata": {},
   "outputs": [
    {
     "name": "stdout",
     "output_type": "stream",
     "text": [
      "10561\n",
      "0.07874467815414898\n"
     ]
    }
   ],
   "source": [
    "common_t2_instance_ids = set(ec1.instance_ids)\n",
    "for e in t2_events:\n",
    "    common_t2_instance_ids &= set(e.instance_id)\n",
    "common_t2_instance_ids = list(common_t2_instance_ids)\n",
    "print(len(common_t2_instance_ids))\n",
    "print(len(common_t2_instance_ids) / num_total_instances)"
   ]
  },
  {
   "cell_type": "markdown",
   "metadata": {},
   "source": [
    "## Type I & II Distribution"
   ]
  },
  {
   "cell_type": "code",
   "execution_count": 30,
   "metadata": {
    "scrolled": true
   },
   "outputs": [
    {
     "name": "stdout",
     "output_type": "stream",
     "text": [
      "Model     Foundation             Type I                  Type II\n",
      "--------  ---------------------  ----------------------  ---------------------\n",
      "CL003     82180/134117 (61.27%)  113977/134117 (84.98%)  20140/134117 (15.02%)\n",
      "RM        82809/134117 (61.74%)  116550/134117 (86.90%)  17567/134117 (13.10%)\n",
      "RMG       86468/134117 (64.47%)  117880/134117 (87.89%)  16237/134117 (12.11%)\n",
      "RMG*      86492/134117 (64.49%)  117941/134117 (87.94%)  16176/134117 (12.06%)\n",
      "RMG2p*    86910/134117 (64.80%)  118511/134117 (88.36%)  15606/134117 (11.64%)\n",
      "RSEMG2p*  88861/134117 (66.26%)  119083/134117 (88.79%)  15034/134117 (11.21%)\n"
     ]
    }
   ],
   "source": [
    "headerlist = ['Model', 'Foundation', 'Type I', 'Type II']\n",
    "tablelist = [\n",
    "    [namemap[ec1_name], _percent(len(m1_fd_events),num_total_instances), _percent(len(m1t1),num_total_instances), _percent(len(m1t2),num_total_instances)],\n",
    "    [namemap[ec2_name], _percent(len(m2_fd_events),num_total_instances), _percent(len(m2t1),num_total_instances), _percent(len(m2t2),num_total_instances)],\n",
    "    [namemap[ec3_name], _percent(len(m3_fd_events),num_total_instances), _percent(len(m3t1),num_total_instances), _percent(len(m3t2),num_total_instances)],\n",
    "    [namemap[ec4_name], _percent(len(m4_fd_events),num_total_instances), _percent(len(m4t1),num_total_instances), _percent(len(m4t2),num_total_instances)],\n",
    "    [namemap[ec5_name], _percent(len(m5_fd_events),num_total_instances), _percent(len(m5t1),num_total_instances), _percent(len(m5t2),num_total_instances)],\n",
    "    [namemap[ec6_name], _percent(len(m6_fd_events),num_total_instances), _percent(len(m6t1),num_total_instances), _percent(len(m6t2),num_total_instances)],\n",
    "]\n",
    "table = tabulate(tablelist, headerlist)\n",
    "print(table)"
   ]
  },
  {
   "cell_type": "markdown",
   "metadata": {},
   "source": [
    "## Type I Spectrum"
   ]
  },
  {
   "cell_type": "code",
   "execution_count": 31,
   "metadata": {},
   "outputs": [
    {
     "name": "stdout",
     "output_type": "stream",
     "text": [
      "Model     [2.0, 1.5]             [1.5, 1.45]            [1.45, 1.4]           [1.4, 1.3]           [1.3, 0.9]\n",
      "--------  ---------------------  ---------------------  --------------------  -------------------  -----------------\n",
      "CL003     82178/134117 (61.27%)  17616/134117 (13.13%)  10684/134117 (7.97%)  3497/134117 (2.61%)  0/134117 (0.00%)\n",
      "RM        82809/134117 (61.74%)  17308/134117 (12.91%)  11052/134117 (8.24%)  5362/134117 (4.00%)  21/134117 (0.02%)\n",
      "RMG       86468/134117 (64.47%)  16271/134117 (12.13%)  10243/134117 (7.64%)  4882/134117 (3.64%)  16/134117 (0.01%)\n",
      "RMG*      86490/134117 (64.49%)  16333/134117 (12.18%)  10282/134117 (7.67%)  4824/134117 (3.60%)  10/134117 (0.01%)\n",
      "RMG2p*    86910/134117 (64.80%)  16198/134117 (12.08%)  10499/134117 (7.83%)  4895/134117 (3.65%)  9/134117 (0.01%)\n",
      "RSEMG2p*  88861/134117 (66.26%)  15851/134117 (11.82%)  9800/134117 (7.31%)   4554/134117 (3.40%)  17/134117 (0.01%)\n"
     ]
    }
   ],
   "source": [
    "sim_ranges = [(2.0, 1.5), (1.5, 1.45), (1.45, 1.4), (1.4, 1.3), (1.3, 0.9)]\n",
    "headerlist = ['Model', '[2.0, 1.5]', '[1.5, 1.45]', '[1.45, 1.4]', '[1.4, 1.3]', '[1.3, 0.9]']\n",
    "tablelist = []\n",
    "for name, events in zip([ec1_name, ec2_name, ec3_name, ec4_name, ec5_name, ec6_name], [m1t1, m2t1, m3t1, m4t1, m5t1, m6t1]):\n",
    "    vals = [namemap[name]]\n",
    "    for r in sim_ranges:\n",
    "        sim_in_between= events[events.last_pos_sim.between(r[1], r[0])]\n",
    "        vals.append(_percent(len(sim_in_between), num_total_instances))\n",
    "        #vals.append('{}/{} ({:02.5f})'.format(len(sim_in_between), num_total_instances, len(sim_in_between) / num_total_instances))\n",
    "    tablelist.append(vals)\n",
    "table = tabulate(tablelist, headerlist)\n",
    "print(table)"
   ]
  },
  {
   "cell_type": "code",
   "execution_count": 32,
   "metadata": {},
   "outputs": [
    {
     "name": "stdout",
     "output_type": "stream",
     "text": [
      "Model     [2.0, 1.45]             [1.45, 1.4]           [1.4, 1.3]           [1.3, 0.9]\n",
      "--------  ----------------------  --------------------  -------------------  -----------------\n",
      "CL003     99794/134117 (74.41%)   10684/134117 (7.97%)  3497/134117 (2.61%)  0/134117 (0.00%)\n",
      "RM        100115/134117 (74.65%)  11052/134117 (8.24%)  5362/134117 (4.00%)  21/134117 (0.02%)\n",
      "RMG       102739/134117 (76.60%)  10243/134117 (7.64%)  4882/134117 (3.64%)  16/134117 (0.01%)\n",
      "RMG*      102823/134117 (76.67%)  10282/134117 (7.67%)  4824/134117 (3.60%)  10/134117 (0.01%)\n",
      "RMG2p*    103108/134117 (76.88%)  10499/134117 (7.83%)  4895/134117 (3.65%)  9/134117 (0.01%)\n",
      "RSEMG2p*  104712/134117 (78.08%)  9800/134117 (7.31%)   4554/134117 (3.40%)  17/134117 (0.01%)\n"
     ]
    }
   ],
   "source": [
    "sim_ranges = [(2.0, 1.45), (1.45, 1.4), (1.4, 1.3), (1.3, 0.9)]\n",
    "headerlist = ['Model', '[2.0, 1.45]', '[1.45, 1.4]', '[1.4, 1.3]', '[1.3, 0.9]']\n",
    "tablelist = []\n",
    "for name, events in zip([ec1_name, ec2_name, ec3_name, ec4_name, ec5_name, ec6_name], [m1t1, m2t1, m3t1, m4t1, m5t1, m6t1]):\n",
    "    vals = [namemap[name]]\n",
    "    for r in sim_ranges:\n",
    "        sim_in_between= events[events.last_pos_sim.between(r[1], r[0])]\n",
    "        vals.append(_percent(len(sim_in_between), num_total_instances))\n",
    "        #vals.append('{}/{} ({:02.5f})'.format(len(sim_in_between), num_total_instances, len(sim_in_between) / num_total_instances))\n",
    "    tablelist.append(vals)\n",
    "table = tabulate(tablelist, headerlist)\n",
    "print(table)"
   ]
  },
  {
   "cell_type": "markdown",
   "metadata": {},
   "source": [
    "## Common Type I Spectrum"
   ]
  },
  {
   "cell_type": "code",
   "execution_count": 187,
   "metadata": {},
   "outputs": [
    {
     "name": "stdout",
     "output_type": "stream",
     "text": [
      "Model     [2.0, 1.45]             [1.45, 1.4]          [1.4, 1.3]           [1.3, 0.9]\n",
      "--------  ----------------------  -------------------  -------------------  ----------------\n",
      "CL003     97442/107767 (90.42%)   8249/107767 (7.65%)  2074/107767 (1.92%)  0/107767 (0.00%)\n",
      "RM        97783/107767 (90.74%)   7720/107767 (7.16%)  2260/107767 (2.10%)  4/107767 (0.00%)\n",
      "RMG       99201/107767 (92.05%)   6814/107767 (6.32%)  1751/107767 (1.62%)  1/107767 (0.00%)\n",
      "RMG*      99188/107767 (92.04%)   6813/107767 (6.32%)  1764/107767 (1.64%)  0/107767 (0.00%)\n",
      "RMG2p*    99277/107767 (92.12%)   6794/107767 (6.30%)  1695/107767 (1.57%)  1/107767 (0.00%)\n",
      "RSEMG2p*  100491/107767 (93.25%)  5907/107767 (5.48%)  1369/107767 (1.27%)  0/107767 (0.00%)\n"
     ]
    }
   ],
   "source": [
    "#Common Type I distribution\n",
    "sim_ranges = [(2.0, 1.45), (1.45, 1.4), (1.4, 1.3), (1.3, 0.9)]\n",
    "headerlist = ['Model', '[2.0, 1.45]', '[1.45, 1.4]', '[1.4, 1.3]', '[1.3, 0.9]']\n",
    "tablelist = []\n",
    "for name, _t1_events in zip([ec1_name, ec2_name, ec3_name, ec4_name, ec5_name, ec6_name], [m1t1, m2t1, m3t1, m4t1, m5t1, m6t1]):\n",
    "    vals = [namemap[name]]\n",
    "    for r in sim_ranges:\n",
    "        events = _t1_events[_t1_events.instance_id.isin(common_t1_instance_ids)]\n",
    "        sim_in_between= events[events.last_pos_sim.between(r[1], r[0])]\n",
    "        vals.append(_percent(len(sim_in_between), len(common_t1_instance_ids)))\n",
    "        #vals.append('{}/{} ({:02.5f})'.format(len(sim_in_between), num_total_instances, len(sim_in_between) / num_total_instances))\n",
    "    tablelist.append(vals)\n",
    "table = tabulate(tablelist, headerlist)\n",
    "print(table)"
   ]
  },
  {
   "cell_type": "code",
   "execution_count": 108,
   "metadata": {},
   "outputs": [],
   "source": [
    "def get_last_pos_instance_ids(event):\n",
    "    event['last_pos_instance_id'] = event.apply(\n",
    "        lambda x: x.ret_ids[int(x.last_pos_index)], axis=1)\n",
    "    return event"
   ]
  },
  {
   "cell_type": "code",
   "execution_count": 106,
   "metadata": {},
   "outputs": [
    {
     "name": "stderr",
     "output_type": "stream",
     "text": [
      "/usr/local/lib/python3.6/dist-packages/ipykernel_launcher.py:3: SettingWithCopyWarning: \n",
      "A value is trying to be set on a copy of a slice from a DataFrame.\n",
      "Try using .loc[row_indexer,col_indexer] = value instead\n",
      "\n",
      "See the caveats in the documentation: http://pandas.pydata.org/pandas-docs/stable/user_guide/indexing.html#returning-a-view-versus-a-copy\n",
      "  This is separate from the ipykernel package so we can avoid doing imports until\n"
     ]
    }
   ],
   "source": [
    "cases = m6t1[m6t1.last_pos_sim.between(0.9, 1.3)]\n",
    "cases = get_last_pos_instance_ids(cases)"
   ]
  },
  {
   "cell_type": "code",
   "execution_count": 109,
   "metadata": {},
   "outputs": [
    {
     "data": {
      "text/plain": [
       "3689        3678\n",
       "13214      13235\n",
       "13251      13258\n",
       "18324      18304\n",
       "29219      29238\n",
       "32136      32128\n",
       "40544      40530\n",
       "75061      75068\n",
       "75063      75068\n",
       "75064      75068\n",
       "78348      78344\n",
       "86202      86204\n",
       "90630      90642\n",
       "100666    100671\n",
       "104286    104274\n",
       "105535    105529\n",
       "110651    110630\n",
       "Name: last_pos_instance_id, dtype: int64"
      ]
     },
     "execution_count": 109,
     "metadata": {},
     "output_type": "execute_result"
    }
   ],
   "source": [
    "cases.last_pos_instance_id"
   ]
  },
  {
   "cell_type": "code",
   "execution_count": 111,
   "metadata": {},
   "outputs": [
    {
     "name": "stdout",
     "output_type": "stream",
     "text": [
      "['n007227/0083_01.jpg', 'n001783/0129_01.jpg', 'n001783/0003_01.jpg', 'n009291/0126_01.jpg', 'n004793/0717_01.jpg', 'n008432/0297_02.jpg', 'm.04wqr/123_FaceId-0.jpg', 'n000433/0334_01.jpg', 'n000433/0482_01.jpg', 'n000433/0041_01.jpg', 'n003637/0181_01.jpg', 'n006775/0334_01.jpg', 'n000732/0141_01.jpg', 'm.01d1yr/75_FaceId-0.jpg', 'n009283/0313_01.jpg', 'n002190/0288_01.jpg', 'n005080/0404_01.jpg']\n",
      "['n007227/0205_04.jpg', 'n001783/0422_01.jpg', 'n001783/0490_01.jpg', 'n009291/0192_03.jpg', 'n004793/0404_01.jpg', 'n008432/0494_01.jpg', 'm.04wqr/15_FaceId-0.jpg', 'n000433/0111_01.jpg', 'n000433/0111_01.jpg', 'n000433/0111_01.jpg', 'n003637/0253_01.jpg', 'n006775/0169_01.jpg', 'n000732/0026_02.jpg', 'm.01d1yr/60_FaceId-0.jpg', 'n009283/0026_01.jpg', 'n002190/0319_01.jpg', 'n005080/0159_06.jpg']\n"
     ]
    }
   ],
   "source": [
    "_inst_ids = list(m6t1[m6t1.last_pos_sim.between(0.9, 1.3)].instance_id)\n",
    "print(ec6.get_filename_strings_by_instance_ids(_inst_ids))\n",
    "_filenames = ec6.get_filename_strings_by_instance_ids(list(cases.last_pos_instance_id))\n",
    "print(_filenames)"
   ]
  },
  {
   "cell_type": "code",
   "execution_count": 33,
   "metadata": {},
   "outputs": [
    {
     "name": "stdout",
     "output_type": "stream",
     "text": [
      "Model       [2.0, 1.5]    [1.5, 1.45]    [1.45, 1.4]    [1.4, 1.3]    [1.3, 0.9]\n",
      "--------  ------------  -------------  -------------  ------------  ------------\n",
      "CL003             6712           2715           1987          1125             0\n",
      "RM                6692           2666           1945          1266            16\n",
      "RMG               6732           2455           1827          1165            12\n",
      "RMG*              6731           2492           1826          1166             8\n",
      "RMG2p*            6754           2471           1824          1135             9\n",
      "RSEMG2p*          6796           2427           1728          1093            14\n"
     ]
    }
   ],
   "source": [
    "# IN CLASS\n",
    "sim_ranges = [(2.0, 1.5), (1.5, 1.45), (1.45, 1.4), (1.4, 1.3), (1.3, 0.9)]\n",
    "headerlist = ['Model', '[2.0, 1.5]', '[1.5, 1.45]', '[1.45, 1.4]', '[1.4, 1.3]', '[1.3, 0.9]']\n",
    "tablelist = []\n",
    "for name, events in zip([ec1_name, ec2_name, ec3_name, ec4_name, ec5_name, ec6_name], [m1t1, m2t1, m3t1, m4t1, m5t1, m6t1]):\n",
    "    vals = [namemap[name]]\n",
    "    for r in sim_ranges:\n",
    "        sim_in_between= events[events.last_pos_sim.between(r[1], r[0])]\n",
    "        vals.append('{}'.format(len(sim_in_between.label_id.unique())))\n",
    "    tablelist.append(vals)\n",
    "table = tabulate(tablelist, headerlist)\n",
    "print(table)"
   ]
  },
  {
   "cell_type": "code",
   "execution_count": 34,
   "metadata": {},
   "outputs": [
    {
     "data": {
      "text/plain": [
       "<matplotlib.legend.Legend at 0x7f16eccace10>"
      ]
     },
     "execution_count": 34,
     "metadata": {},
     "output_type": "execute_result"
    },
    {
     "data": {
      "image/png": "[encoded data removed]",
      "text/plain": [
       "<Figure size 432x288 with 1 Axes>"
      ]
     },
     "metadata": {
      "needs_background": "light"
     },
     "output_type": "display_data"
    }
   ],
   "source": [
    "sns.distplot(m1_fd_events.top2k_margin)\n",
    "sns.distplot(m2_fd_events.top2k_margin)\n",
    "sns.distplot(m3_fd_events.top2k_margin)\n",
    "sns.distplot(m4_fd_events.top2k_margin)\n",
    "sns.distplot(m5_fd_events.top2k_margin)\n",
    "sns.distplot(m6_fd_events.top2k_margin)\n",
    "plt.legend(labels=[\n",
    "    namemap[ec1_name],\n",
    "    namemap[ec2_name],\n",
    "    namemap[ec3_name],\n",
    "    namemap[ec4_name],\n",
    "    namemap[ec5_name],\n",
    "    namemap[ec6_name],\n",
    "])"
   ]
  },
  {
   "cell_type": "code",
   "execution_count": 54,
   "metadata": {},
   "outputs": [
    {
     "name": "stdout",
     "output_type": "stream",
     "text": [
      "CL003: mean = 0.1826, std = 0.1012, median = 0.1763\n",
      "RM: mean = 0.2036, std = 0.1080, median = 0.1986\n",
      "RMG: mean = 0.2115, std = 0.1110, median = 0.2070\n",
      "RMG*: mean = 0.2114, std = 0.1112, median = 0.2065\n",
      "RMG2p*: mean = 0.2130, std = 0.1114, median = 0.2082\n",
      "RSEMG2p*: mean = 0.2166, std = 0.1122, median = 0.2115\n"
     ]
    }
   ],
   "source": [
    "# margin statistics\n",
    "for name, event in zip(model_names, t1_events):\n",
    "    print('{}: mean = {:.4f}, std = {:.4f}, median = {:.4f}'.format(namemap[name],\n",
    "                                                                    np.mean(event.top2k_margin),\n",
    "                                                                    np.std(event.top2k_margin),\n",
    "                                                                    np.median(event.top2k_margin),\n",
    "                                                                   ))"
   ]
  },
  {
   "cell_type": "code",
   "execution_count": 35,
   "metadata": {},
   "outputs": [
    {
     "name": "stdout",
     "output_type": "stream",
     "text": [
      "class_ap                                                          0.999869\n",
      "class_margin                                                   -0.00345278\n",
      "class_purity                                                      0.988636\n",
      "extend_diversity                                                        37\n",
      "first_neg_index                                                         86\n",
      "first_neg_sim                                                      1.37695\n",
      "first_sim                                                          1.80135\n",
      "instance_id                                                            128\n",
      "label_id                                                                 6\n",
      "last_neg_sim                                                       1.24865\n",
      "last_pos_index                                                          87\n",
      "last_pos_sim                                                        1.3735\n",
      "num_topk                                                                87\n",
      "ret_ids                  [128, 157, 106, 117, 111, 115, 187, 144, 109, ...\n",
      "ret_label_ids            [6, 6, 6, 6, 6, 6, 6, 6, 6, 6, 6, 6, 6, 6, 6, ...\n",
      "top2k_first_neg_index                                                   86\n",
      "top2k_first_neg_sim                                                1.37695\n",
      "top2k_last_neg_sim                                                 1.26617\n",
      "top2k_last_pos_index                                                    87\n",
      "top2k_last_pos_sim                                                  1.3735\n",
      "top2k_margin                                                   -0.00345278\n",
      "topk_ap                                                                  1\n",
      "topk_purity                                                       0.988506\n",
      "Name: 128, dtype: object\n"
     ]
    }
   ],
   "source": [
    "sample = m4t2.iloc[11]\n",
    "print(sample)"
   ]
  },
  {
   "cell_type": "code",
   "execution_count": 36,
   "metadata": {},
   "outputs": [
    {
     "data": {
      "text/plain": [
       "True"
      ]
     },
     "execution_count": 36,
     "metadata": {},
     "output_type": "execute_result"
    }
   ],
   "source": [
    "# finally, all retrieved\n",
    "np.sum(sample.ret_label_ids == sample.label_id) == sample.num_topk"
   ]
  },
  {
   "cell_type": "code",
   "execution_count": 37,
   "metadata": {},
   "outputs": [
    {
     "data": {
      "text/plain": [
       "array([6, 6])"
      ]
     },
     "execution_count": 37,
     "metadata": {},
     "output_type": "execute_result"
    }
   ],
   "source": [
    "sample.ret_label_ids[1:3]"
   ]
  },
  {
   "cell_type": "code",
   "execution_count": 158,
   "metadata": {},
   "outputs": [],
   "source": [
    "def all_retrieved(t2):\n",
    "    t2['all_fetched'] = t2.apply(\n",
    "        lambda x: np.sum(x.ret_label_ids == x.label_id) == x.num_topk,\n",
    "        axis=1)\n",
    "    t2nf = t2[~t2.all_fetched]\n",
    "    t2f = t2[t2.all_fetched]\n",
    "    print('#of out of search: {} ({})'.format(len(t2) - len(t2f), (len(t2) - len(t2f))/len(t2)))\n",
    "    t2f['n_outlier'] = t2f.apply(lambda x: np.sum(x.ret_label_ids[int(2 * x.num_topk):] == x.label_id), axis=1)\n",
    "    t2f['n_within_2k'] = t2f.apply(lambda x: np.sum(x.ret_label_ids[int(x.num_topk): int(2 * x.num_topk)+1] == x.label_id), axis=1)\n",
    "    return t2f, t2nf"
   ]
  },
  {
   "cell_type": "code",
   "execution_count": 159,
   "metadata": {},
   "outputs": [
    {
     "name": "stderr",
     "output_type": "stream",
     "text": [
      "/usr/local/lib/python3.6/dist-packages/ipykernel_launcher.py:4: SettingWithCopyWarning: \n",
      "A value is trying to be set on a copy of a slice from a DataFrame.\n",
      "Try using .loc[row_indexer,col_indexer] = value instead\n",
      "\n",
      "See the caveats in the documentation: http://pandas.pydata.org/pandas-docs/stable/user_guide/indexing.html#returning-a-view-versus-a-copy\n",
      "  after removing the cwd from sys.path.\n"
     ]
    },
    {
     "name": "stdout",
     "output_type": "stream",
     "text": [
      "#of out of search: 134 (0.006653426017874876)\n"
     ]
    },
    {
     "name": "stderr",
     "output_type": "stream",
     "text": [
      "/usr/local/lib/python3.6/dist-packages/ipykernel_launcher.py:8: SettingWithCopyWarning: \n",
      "A value is trying to be set on a copy of a slice from a DataFrame.\n",
      "Try using .loc[row_indexer,col_indexer] = value instead\n",
      "\n",
      "See the caveats in the documentation: http://pandas.pydata.org/pandas-docs/stable/user_guide/indexing.html#returning-a-view-versus-a-copy\n",
      "  \n",
      "/usr/local/lib/python3.6/dist-packages/ipykernel_launcher.py:9: SettingWithCopyWarning: \n",
      "A value is trying to be set on a copy of a slice from a DataFrame.\n",
      "Try using .loc[row_indexer,col_indexer] = value instead\n",
      "\n",
      "See the caveats in the documentation: http://pandas.pydata.org/pandas-docs/stable/user_guide/indexing.html#returning-a-view-versus-a-copy\n",
      "  if __name__ == '__main__':\n"
     ]
    },
    {
     "name": "stdout",
     "output_type": "stream",
     "text": [
      "#of out of search: 177 (0.010075710138327545)\n",
      "#of out of search: 180 (0.01108579171029131)\n",
      "#of out of search: 182 (0.011251236399604353)\n",
      "#of out of search: 206 (0.013200051262335)\n",
      "#of out of search: 152 (0.010110416389517094)\n"
     ]
    }
   ],
   "source": [
    "m1t2f, m1t2nf = all_retrieved(m1t2)\n",
    "m2t2f, m2t2nf = all_retrieved(m2t2)\n",
    "m3t2f, m3t2nf = all_retrieved(m3t2)\n",
    "m4t2f, m4t2nf = all_retrieved(m4t2)\n",
    "m5t2f, m5t2nf = all_retrieved(m5t2)\n",
    "m6t2f, m6t2nf = all_retrieved(m6t2)"
   ]
  },
  {
   "cell_type": "code",
   "execution_count": 166,
   "metadata": {},
   "outputs": [
    {
     "data": {
      "text/html": [
       "<div>\n",
       "<style scoped>\n",
       "    .dataframe tbody tr th:only-of-type {\n",
       "        vertical-align: middle;\n",
       "    }\n",
       "\n",
       "    .dataframe tbody tr th {\n",
       "        vertical-align: top;\n",
       "    }\n",
       "\n",
       "    .dataframe thead th {\n",
       "        text-align: right;\n",
       "    }\n",
       "</style>\n",
       "<table border=\"1\" class=\"dataframe\">\n",
       "  <thead>\n",
       "    <tr style=\"text-align: right;\">\n",
       "      <th></th>\n",
       "      <th>class_ap</th>\n",
       "      <th>class_margin</th>\n",
       "      <th>class_purity</th>\n",
       "      <th>extend_diversity</th>\n",
       "      <th>first_neg_index</th>\n",
       "      <th>first_neg_sim</th>\n",
       "      <th>first_sim</th>\n",
       "      <th>instance_id</th>\n",
       "      <th>label_id</th>\n",
       "      <th>last_neg_sim</th>\n",
       "      <th>...</th>\n",
       "      <th>top2k_first_neg_index</th>\n",
       "      <th>top2k_first_neg_sim</th>\n",
       "      <th>top2k_last_neg_sim</th>\n",
       "      <th>top2k_last_pos_index</th>\n",
       "      <th>top2k_last_pos_sim</th>\n",
       "      <th>top2k_margin</th>\n",
       "      <th>topk_ap</th>\n",
       "      <th>topk_purity</th>\n",
       "      <th>folder_name</th>\n",
       "      <th>all_fetched</th>\n",
       "    </tr>\n",
       "  </thead>\n",
       "  <tbody>\n",
       "    <tr>\n",
       "      <th>3956</th>\n",
       "      <td>1.000000</td>\n",
       "      <td>0.004214</td>\n",
       "      <td>1.000000</td>\n",
       "      <td>12.0</td>\n",
       "      <td>28.0</td>\n",
       "      <td>1.361961</td>\n",
       "      <td>1.776266</td>\n",
       "      <td>3956.0</td>\n",
       "      <td>214.0</td>\n",
       "      <td>0.907479</td>\n",
       "      <td>...</td>\n",
       "      <td>28.0</td>\n",
       "      <td>1.361961</td>\n",
       "      <td>1.291623</td>\n",
       "      <td>27.0</td>\n",
       "      <td>1.366174</td>\n",
       "      <td>0.004214</td>\n",
       "      <td>1.0</td>\n",
       "      <td>0.965517</td>\n",
       "      <td>n008365</td>\n",
       "      <td>False</td>\n",
       "    </tr>\n",
       "    <tr>\n",
       "      <th>12521</th>\n",
       "      <td>1.000000</td>\n",
       "      <td>0.310274</td>\n",
       "      <td>1.000000</td>\n",
       "      <td>8.0</td>\n",
       "      <td>13.0</td>\n",
       "      <td>1.308620</td>\n",
       "      <td>1.835714</td>\n",
       "      <td>12521.0</td>\n",
       "      <td>686.0</td>\n",
       "      <td>0.913184</td>\n",
       "      <td>...</td>\n",
       "      <td>13.0</td>\n",
       "      <td>1.308620</td>\n",
       "      <td>1.284010</td>\n",
       "      <td>12.0</td>\n",
       "      <td>1.618894</td>\n",
       "      <td>0.310274</td>\n",
       "      <td>1.0</td>\n",
       "      <td>0.928571</td>\n",
       "      <td>0001662</td>\n",
       "      <td>False</td>\n",
       "    </tr>\n",
       "    <tr>\n",
       "      <th>12526</th>\n",
       "      <td>0.077031</td>\n",
       "      <td>-0.365520</td>\n",
       "      <td>0.000122</td>\n",
       "      <td>9.0</td>\n",
       "      <td>1.0</td>\n",
       "      <td>1.305839</td>\n",
       "      <td>1.305839</td>\n",
       "      <td>12526.0</td>\n",
       "      <td>686.0</td>\n",
       "      <td>0.911400</td>\n",
       "      <td>...</td>\n",
       "      <td>1.0</td>\n",
       "      <td>1.305839</td>\n",
       "      <td>1.245395</td>\n",
       "      <td>0.0</td>\n",
       "      <td>2.000000</td>\n",
       "      <td>0.694161</td>\n",
       "      <td>1.0</td>\n",
       "      <td>0.071429</td>\n",
       "      <td>0001662</td>\n",
       "      <td>False</td>\n",
       "    </tr>\n",
       "    <tr>\n",
       "      <th>17757</th>\n",
       "      <td>1.000000</td>\n",
       "      <td>0.268391</td>\n",
       "      <td>1.000000</td>\n",
       "      <td>2.0</td>\n",
       "      <td>3.0</td>\n",
       "      <td>1.338048</td>\n",
       "      <td>1.732394</td>\n",
       "      <td>17757.0</td>\n",
       "      <td>985.0</td>\n",
       "      <td>0.907609</td>\n",
       "      <td>...</td>\n",
       "      <td>3.0</td>\n",
       "      <td>1.338048</td>\n",
       "      <td>1.299919</td>\n",
       "      <td>2.0</td>\n",
       "      <td>1.606439</td>\n",
       "      <td>0.268391</td>\n",
       "      <td>1.0</td>\n",
       "      <td>0.750000</td>\n",
       "      <td>1754593</td>\n",
       "      <td>False</td>\n",
       "    </tr>\n",
       "    <tr>\n",
       "      <th>17758</th>\n",
       "      <td>0.500025</td>\n",
       "      <td>-0.276015</td>\n",
       "      <td>0.000050</td>\n",
       "      <td>3.0</td>\n",
       "      <td>1.0</td>\n",
       "      <td>1.303792</td>\n",
       "      <td>1.303792</td>\n",
       "      <td>17758.0</td>\n",
       "      <td>985.0</td>\n",
       "      <td>0.904449</td>\n",
       "      <td>...</td>\n",
       "      <td>1.0</td>\n",
       "      <td>1.303792</td>\n",
       "      <td>1.278092</td>\n",
       "      <td>0.0</td>\n",
       "      <td>2.000000</td>\n",
       "      <td>0.696208</td>\n",
       "      <td>1.0</td>\n",
       "      <td>0.250000</td>\n",
       "      <td>1754593</td>\n",
       "      <td>False</td>\n",
       "    </tr>\n",
       "    <tr>\n",
       "      <th>...</th>\n",
       "      <td>...</td>\n",
       "      <td>...</td>\n",
       "      <td>...</td>\n",
       "      <td>...</td>\n",
       "      <td>...</td>\n",
       "      <td>...</td>\n",
       "      <td>...</td>\n",
       "      <td>...</td>\n",
       "      <td>...</td>\n",
       "      <td>...</td>\n",
       "      <td>...</td>\n",
       "      <td>...</td>\n",
       "      <td>...</td>\n",
       "      <td>...</td>\n",
       "      <td>...</td>\n",
       "      <td>...</td>\n",
       "      <td>...</td>\n",
       "      <td>...</td>\n",
       "      <td>...</td>\n",
       "      <td>...</td>\n",
       "      <td>...</td>\n",
       "    </tr>\n",
       "    <tr>\n",
       "      <th>109689</th>\n",
       "      <td>0.100099</td>\n",
       "      <td>-0.309319</td>\n",
       "      <td>0.000129</td>\n",
       "      <td>8.0</td>\n",
       "      <td>1.0</td>\n",
       "      <td>1.300451</td>\n",
       "      <td>1.300451</td>\n",
       "      <td>109689.0</td>\n",
       "      <td>6122.0</td>\n",
       "      <td>0.913764</td>\n",
       "      <td>...</td>\n",
       "      <td>1.0</td>\n",
       "      <td>1.300451</td>\n",
       "      <td>1.274659</td>\n",
       "      <td>0.0</td>\n",
       "      <td>2.000000</td>\n",
       "      <td>0.699549</td>\n",
       "      <td>1.0</td>\n",
       "      <td>0.090909</td>\n",
       "      <td>n006096</td>\n",
       "      <td>False</td>\n",
       "    </tr>\n",
       "    <tr>\n",
       "      <th>114610</th>\n",
       "      <td>0.050159</td>\n",
       "      <td>-0.883000</td>\n",
       "      <td>0.000190</td>\n",
       "      <td>11.0</td>\n",
       "      <td>1.0</td>\n",
       "      <td>1.825919</td>\n",
       "      <td>1.825919</td>\n",
       "      <td>114610.0</td>\n",
       "      <td>6407.0</td>\n",
       "      <td>0.909163</td>\n",
       "      <td>...</td>\n",
       "      <td>1.0</td>\n",
       "      <td>1.825919</td>\n",
       "      <td>1.253963</td>\n",
       "      <td>0.0</td>\n",
       "      <td>2.000000</td>\n",
       "      <td>0.174081</td>\n",
       "      <td>1.0</td>\n",
       "      <td>0.047619</td>\n",
       "      <td>n008384</td>\n",
       "      <td>False</td>\n",
       "    </tr>\n",
       "    <tr>\n",
       "      <th>114615</th>\n",
       "      <td>1.000000</td>\n",
       "      <td>0.041852</td>\n",
       "      <td>1.000000</td>\n",
       "      <td>12.0</td>\n",
       "      <td>20.0</td>\n",
       "      <td>1.368830</td>\n",
       "      <td>1.637701</td>\n",
       "      <td>114615.0</td>\n",
       "      <td>6407.0</td>\n",
       "      <td>0.915664</td>\n",
       "      <td>...</td>\n",
       "      <td>20.0</td>\n",
       "      <td>1.368830</td>\n",
       "      <td>1.291639</td>\n",
       "      <td>19.0</td>\n",
       "      <td>1.410682</td>\n",
       "      <td>0.041852</td>\n",
       "      <td>1.0</td>\n",
       "      <td>0.952381</td>\n",
       "      <td>n008384</td>\n",
       "      <td>False</td>\n",
       "    </tr>\n",
       "    <tr>\n",
       "      <th>127225</th>\n",
       "      <td>0.691874</td>\n",
       "      <td>-0.411398</td>\n",
       "      <td>0.000629</td>\n",
       "      <td>22.0</td>\n",
       "      <td>38.0</td>\n",
       "      <td>1.381106</td>\n",
       "      <td>1.768014</td>\n",
       "      <td>127225.0</td>\n",
       "      <td>7114.0</td>\n",
       "      <td>0.912808</td>\n",
       "      <td>...</td>\n",
       "      <td>38.0</td>\n",
       "      <td>1.381106</td>\n",
       "      <td>1.269773</td>\n",
       "      <td>110.0</td>\n",
       "      <td>1.271526</td>\n",
       "      <td>-0.109580</td>\n",
       "      <td>1.0</td>\n",
       "      <td>0.655172</td>\n",
       "      <td>n008112</td>\n",
       "      <td>False</td>\n",
       "    </tr>\n",
       "    <tr>\n",
       "      <th>134005</th>\n",
       "      <td>1.000000</td>\n",
       "      <td>0.689982</td>\n",
       "      <td>1.000000</td>\n",
       "      <td>2.0</td>\n",
       "      <td>1.0</td>\n",
       "      <td>1.310018</td>\n",
       "      <td>1.310018</td>\n",
       "      <td>134005.0</td>\n",
       "      <td>7470.0</td>\n",
       "      <td>0.911529</td>\n",
       "      <td>...</td>\n",
       "      <td>1.0</td>\n",
       "      <td>1.310018</td>\n",
       "      <td>1.304616</td>\n",
       "      <td>0.0</td>\n",
       "      <td>2.000000</td>\n",
       "      <td>0.689982</td>\n",
       "      <td>1.0</td>\n",
       "      <td>0.500000</td>\n",
       "      <td>4893225</td>\n",
       "      <td>False</td>\n",
       "    </tr>\n",
       "  </tbody>\n",
       "</table>\n",
       "<p>152 rows × 25 columns</p>\n",
       "</div>"
      ],
      "text/plain": [
       "        class_ap  class_margin  class_purity  extend_diversity  \\\n",
       "3956    1.000000      0.004214      1.000000              12.0   \n",
       "12521   1.000000      0.310274      1.000000               8.0   \n",
       "12526   0.077031     -0.365520      0.000122               9.0   \n",
       "17757   1.000000      0.268391      1.000000               2.0   \n",
       "17758   0.500025     -0.276015      0.000050               3.0   \n",
       "...          ...           ...           ...               ...   \n",
       "109689  0.100099     -0.309319      0.000129               8.0   \n",
       "114610  0.050159     -0.883000      0.000190              11.0   \n",
       "114615  1.000000      0.041852      1.000000              12.0   \n",
       "127225  0.691874     -0.411398      0.000629              22.0   \n",
       "134005  1.000000      0.689982      1.000000               2.0   \n",
       "\n",
       "        first_neg_index  first_neg_sim  first_sim  instance_id  label_id  \\\n",
       "3956               28.0       1.361961   1.776266       3956.0     214.0   \n",
       "12521              13.0       1.308620   1.835714      12521.0     686.0   \n",
       "12526               1.0       1.305839   1.305839      12526.0     686.0   \n",
       "17757               3.0       1.338048   1.732394      17757.0     985.0   \n",
       "17758               1.0       1.303792   1.303792      17758.0     985.0   \n",
       "...                 ...            ...        ...          ...       ...   \n",
       "109689              1.0       1.300451   1.300451     109689.0    6122.0   \n",
       "114610              1.0       1.825919   1.825919     114610.0    6407.0   \n",
       "114615             20.0       1.368830   1.637701     114615.0    6407.0   \n",
       "127225             38.0       1.381106   1.768014     127225.0    7114.0   \n",
       "134005              1.0       1.310018   1.310018     134005.0    7470.0   \n",
       "\n",
       "        last_neg_sim  ...  top2k_first_neg_index  top2k_first_neg_sim  \\\n",
       "3956        0.907479  ...                   28.0             1.361961   \n",
       "12521       0.913184  ...                   13.0             1.308620   \n",
       "12526       0.911400  ...                    1.0             1.305839   \n",
       "17757       0.907609  ...                    3.0             1.338048   \n",
       "17758       0.904449  ...                    1.0             1.303792   \n",
       "...              ...  ...                    ...                  ...   \n",
       "109689      0.913764  ...                    1.0             1.300451   \n",
       "114610      0.909163  ...                    1.0             1.825919   \n",
       "114615      0.915664  ...                   20.0             1.368830   \n",
       "127225      0.912808  ...                   38.0             1.381106   \n",
       "134005      0.911529  ...                    1.0             1.310018   \n",
       "\n",
       "        top2k_last_neg_sim top2k_last_pos_index top2k_last_pos_sim  \\\n",
       "3956              1.291623                 27.0           1.366174   \n",
       "12521             1.284010                 12.0           1.618894   \n",
       "12526             1.245395                  0.0           2.000000   \n",
       "17757             1.299919                  2.0           1.606439   \n",
       "17758             1.278092                  0.0           2.000000   \n",
       "...                    ...                  ...                ...   \n",
       "109689            1.274659                  0.0           2.000000   \n",
       "114610            1.253963                  0.0           2.000000   \n",
       "114615            1.291639                 19.0           1.410682   \n",
       "127225            1.269773                110.0           1.271526   \n",
       "134005            1.304616                  0.0           2.000000   \n",
       "\n",
       "        top2k_margin  topk_ap  topk_purity  folder_name  all_fetched  \n",
       "3956        0.004214      1.0     0.965517      n008365        False  \n",
       "12521       0.310274      1.0     0.928571      0001662        False  \n",
       "12526       0.694161      1.0     0.071429      0001662        False  \n",
       "17757       0.268391      1.0     0.750000      1754593        False  \n",
       "17758       0.696208      1.0     0.250000      1754593        False  \n",
       "...              ...      ...          ...          ...          ...  \n",
       "109689      0.699549      1.0     0.090909      n006096        False  \n",
       "114610      0.174081      1.0     0.047619      n008384        False  \n",
       "114615      0.041852      1.0     0.952381      n008384        False  \n",
       "127225     -0.109580      1.0     0.655172      n008112        False  \n",
       "134005      0.689982      1.0     0.500000      4893225        False  \n",
       "\n",
       "[152 rows x 25 columns]"
      ]
     },
     "execution_count": 166,
     "metadata": {},
     "output_type": "execute_result"
    }
   ],
   "source": [
    "m6t2nf"
   ]
  },
  {
   "cell_type": "code",
   "execution_count": 161,
   "metadata": {
    "scrolled": false
   },
   "outputs": [
    {
     "data": {
      "text/html": [
       "<div>\n",
       "<style scoped>\n",
       "    .dataframe tbody tr th:only-of-type {\n",
       "        vertical-align: middle;\n",
       "    }\n",
       "\n",
       "    .dataframe tbody tr th {\n",
       "        vertical-align: top;\n",
       "    }\n",
       "\n",
       "    .dataframe thead th {\n",
       "        text-align: right;\n",
       "    }\n",
       "</style>\n",
       "<table border=\"1\" class=\"dataframe\">\n",
       "  <thead>\n",
       "    <tr style=\"text-align: right;\">\n",
       "      <th></th>\n",
       "      <th>class_ap</th>\n",
       "      <th>class_margin</th>\n",
       "      <th>class_purity</th>\n",
       "      <th>extend_diversity</th>\n",
       "      <th>first_neg_index</th>\n",
       "      <th>first_neg_sim</th>\n",
       "      <th>first_sim</th>\n",
       "      <th>instance_id</th>\n",
       "      <th>label_id</th>\n",
       "      <th>last_neg_sim</th>\n",
       "      <th>...</th>\n",
       "      <th>top2k_last_neg_sim</th>\n",
       "      <th>top2k_last_pos_index</th>\n",
       "      <th>top2k_last_pos_sim</th>\n",
       "      <th>top2k_margin</th>\n",
       "      <th>topk_ap</th>\n",
       "      <th>topk_purity</th>\n",
       "      <th>folder_name</th>\n",
       "      <th>all_fetched</th>\n",
       "      <th>n_outlier</th>\n",
       "      <th>n_within_2k</th>\n",
       "    </tr>\n",
       "  </thead>\n",
       "  <tbody>\n",
       "    <tr>\n",
       "      <th>259</th>\n",
       "      <td>0.952381</td>\n",
       "      <td>-0.068633</td>\n",
       "      <td>0.428571</td>\n",
       "      <td>4.0</td>\n",
       "      <td>11.0</td>\n",
       "      <td>1.398008</td>\n",
       "      <td>1.934332</td>\n",
       "      <td>259.0</td>\n",
       "      <td>14.0</td>\n",
       "      <td>1.124937</td>\n",
       "      <td>...</td>\n",
       "      <td>1.339470</td>\n",
       "      <td>10.0</td>\n",
       "      <td>1.636010</td>\n",
       "      <td>0.238002</td>\n",
       "      <td>1.0</td>\n",
       "      <td>0.916667</td>\n",
       "      <td>m.04glw0x</td>\n",
       "      <td>True</td>\n",
       "      <td>1</td>\n",
       "      <td>0</td>\n",
       "    </tr>\n",
       "    <tr>\n",
       "      <th>260</th>\n",
       "      <td>0.950000</td>\n",
       "      <td>-0.070295</td>\n",
       "      <td>0.400000</td>\n",
       "      <td>2.0</td>\n",
       "      <td>11.0</td>\n",
       "      <td>1.412439</td>\n",
       "      <td>1.919239</td>\n",
       "      <td>260.0</td>\n",
       "      <td>14.0</td>\n",
       "      <td>1.126099</td>\n",
       "      <td>...</td>\n",
       "      <td>1.355312</td>\n",
       "      <td>10.0</td>\n",
       "      <td>1.612859</td>\n",
       "      <td>0.200420</td>\n",
       "      <td>1.0</td>\n",
       "      <td>0.916667</td>\n",
       "      <td>m.04glw0x</td>\n",
       "      <td>True</td>\n",
       "      <td>1</td>\n",
       "      <td>0</td>\n",
       "    </tr>\n",
       "    <tr>\n",
       "      <th>265</th>\n",
       "      <td>0.925287</td>\n",
       "      <td>-0.138694</td>\n",
       "      <td>0.103448</td>\n",
       "      <td>8.0</td>\n",
       "      <td>11.0</td>\n",
       "      <td>1.406433</td>\n",
       "      <td>1.843791</td>\n",
       "      <td>265.0</td>\n",
       "      <td>14.0</td>\n",
       "      <td>1.125505</td>\n",
       "      <td>...</td>\n",
       "      <td>1.319843</td>\n",
       "      <td>10.0</td>\n",
       "      <td>1.639604</td>\n",
       "      <td>0.233171</td>\n",
       "      <td>1.0</td>\n",
       "      <td>0.916667</td>\n",
       "      <td>m.04glw0x</td>\n",
       "      <td>True</td>\n",
       "      <td>1</td>\n",
       "      <td>0</td>\n",
       "    </tr>\n",
       "    <tr>\n",
       "      <th>267</th>\n",
       "      <td>0.943694</td>\n",
       "      <td>-0.070685</td>\n",
       "      <td>0.324324</td>\n",
       "      <td>5.0</td>\n",
       "      <td>11.0</td>\n",
       "      <td>1.391390</td>\n",
       "      <td>1.934332</td>\n",
       "      <td>267.0</td>\n",
       "      <td>14.0</td>\n",
       "      <td>1.121246</td>\n",
       "      <td>...</td>\n",
       "      <td>1.334502</td>\n",
       "      <td>10.0</td>\n",
       "      <td>1.636666</td>\n",
       "      <td>0.245275</td>\n",
       "      <td>1.0</td>\n",
       "      <td>0.916667</td>\n",
       "      <td>m.04glw0x</td>\n",
       "      <td>True</td>\n",
       "      <td>1</td>\n",
       "      <td>0</td>\n",
       "    </tr>\n",
       "    <tr>\n",
       "      <th>514</th>\n",
       "      <td>0.888903</td>\n",
       "      <td>-0.334174</td>\n",
       "      <td>0.000124</td>\n",
       "      <td>5.0</td>\n",
       "      <td>8.0</td>\n",
       "      <td>1.328566</td>\n",
       "      <td>1.782369</td>\n",
       "      <td>514.0</td>\n",
       "      <td>29.0</td>\n",
       "      <td>0.906561</td>\n",
       "      <td>...</td>\n",
       "      <td>1.298544</td>\n",
       "      <td>7.0</td>\n",
       "      <td>1.564610</td>\n",
       "      <td>0.236045</td>\n",
       "      <td>1.0</td>\n",
       "      <td>0.888889</td>\n",
       "      <td>n008749</td>\n",
       "      <td>True</td>\n",
       "      <td>1</td>\n",
       "      <td>0</td>\n",
       "    </tr>\n",
       "    <tr>\n",
       "      <th>...</th>\n",
       "      <td>...</td>\n",
       "      <td>...</td>\n",
       "      <td>...</td>\n",
       "      <td>...</td>\n",
       "      <td>...</td>\n",
       "      <td>...</td>\n",
       "      <td>...</td>\n",
       "      <td>...</td>\n",
       "      <td>...</td>\n",
       "      <td>...</td>\n",
       "      <td>...</td>\n",
       "      <td>...</td>\n",
       "      <td>...</td>\n",
       "      <td>...</td>\n",
       "      <td>...</td>\n",
       "      <td>...</td>\n",
       "      <td>...</td>\n",
       "      <td>...</td>\n",
       "      <td>...</td>\n",
       "      <td>...</td>\n",
       "      <td>...</td>\n",
       "    </tr>\n",
       "    <tr>\n",
       "      <th>133901</th>\n",
       "      <td>0.888928</td>\n",
       "      <td>-0.308113</td>\n",
       "      <td>0.000352</td>\n",
       "      <td>5.0</td>\n",
       "      <td>8.0</td>\n",
       "      <td>1.384939</td>\n",
       "      <td>1.972260</td>\n",
       "      <td>133901.0</td>\n",
       "      <td>7462.0</td>\n",
       "      <td>0.904459</td>\n",
       "      <td>...</td>\n",
       "      <td>1.325286</td>\n",
       "      <td>7.0</td>\n",
       "      <td>1.753304</td>\n",
       "      <td>0.368365</td>\n",
       "      <td>1.0</td>\n",
       "      <td>0.888889</td>\n",
       "      <td>n001304</td>\n",
       "      <td>True</td>\n",
       "      <td>1</td>\n",
       "      <td>0</td>\n",
       "    </tr>\n",
       "    <tr>\n",
       "      <th>133902</th>\n",
       "      <td>0.888918</td>\n",
       "      <td>-0.359177</td>\n",
       "      <td>0.000264</td>\n",
       "      <td>3.0</td>\n",
       "      <td>8.0</td>\n",
       "      <td>1.418784</td>\n",
       "      <td>1.870296</td>\n",
       "      <td>133902.0</td>\n",
       "      <td>7462.0</td>\n",
       "      <td>0.903830</td>\n",
       "      <td>...</td>\n",
       "      <td>1.359579</td>\n",
       "      <td>7.0</td>\n",
       "      <td>1.752325</td>\n",
       "      <td>0.333541</td>\n",
       "      <td>1.0</td>\n",
       "      <td>0.888889</td>\n",
       "      <td>n001304</td>\n",
       "      <td>True</td>\n",
       "      <td>1</td>\n",
       "      <td>0</td>\n",
       "    </tr>\n",
       "    <tr>\n",
       "      <th>133903</th>\n",
       "      <td>0.888940</td>\n",
       "      <td>-0.287641</td>\n",
       "      <td>0.000456</td>\n",
       "      <td>7.0</td>\n",
       "      <td>8.0</td>\n",
       "      <td>1.380088</td>\n",
       "      <td>1.972260</td>\n",
       "      <td>133903.0</td>\n",
       "      <td>7462.0</td>\n",
       "      <td>0.906378</td>\n",
       "      <td>...</td>\n",
       "      <td>1.325542</td>\n",
       "      <td>7.0</td>\n",
       "      <td>1.761327</td>\n",
       "      <td>0.381239</td>\n",
       "      <td>1.0</td>\n",
       "      <td>0.888889</td>\n",
       "      <td>n001304</td>\n",
       "      <td>True</td>\n",
       "      <td>1</td>\n",
       "      <td>0</td>\n",
       "    </tr>\n",
       "    <tr>\n",
       "      <th>133904</th>\n",
       "      <td>0.889081</td>\n",
       "      <td>-0.217800</td>\n",
       "      <td>0.001727</td>\n",
       "      <td>6.0</td>\n",
       "      <td>8.0</td>\n",
       "      <td>1.369747</td>\n",
       "      <td>1.826114</td>\n",
       "      <td>133904.0</td>\n",
       "      <td>7462.0</td>\n",
       "      <td>0.903352</td>\n",
       "      <td>...</td>\n",
       "      <td>1.331935</td>\n",
       "      <td>7.0</td>\n",
       "      <td>1.689538</td>\n",
       "      <td>0.319790</td>\n",
       "      <td>1.0</td>\n",
       "      <td>0.888889</td>\n",
       "      <td>n001304</td>\n",
       "      <td>True</td>\n",
       "      <td>1</td>\n",
       "      <td>0</td>\n",
       "    </tr>\n",
       "    <tr>\n",
       "      <th>133905</th>\n",
       "      <td>0.888912</td>\n",
       "      <td>-0.345882</td>\n",
       "      <td>0.000209</td>\n",
       "      <td>9.0</td>\n",
       "      <td>8.0</td>\n",
       "      <td>1.392983</td>\n",
       "      <td>1.842125</td>\n",
       "      <td>133905.0</td>\n",
       "      <td>7462.0</td>\n",
       "      <td>0.904228</td>\n",
       "      <td>...</td>\n",
       "      <td>1.322042</td>\n",
       "      <td>7.0</td>\n",
       "      <td>1.739663</td>\n",
       "      <td>0.346680</td>\n",
       "      <td>1.0</td>\n",
       "      <td>0.888889</td>\n",
       "      <td>n001304</td>\n",
       "      <td>True</td>\n",
       "      <td>1</td>\n",
       "      <td>0</td>\n",
       "    </tr>\n",
       "  </tbody>\n",
       "</table>\n",
       "<p>5883 rows × 27 columns</p>\n",
       "</div>"
      ],
      "text/plain": [
       "        class_ap  class_margin  class_purity  extend_diversity  \\\n",
       "259     0.952381     -0.068633      0.428571               4.0   \n",
       "260     0.950000     -0.070295      0.400000               2.0   \n",
       "265     0.925287     -0.138694      0.103448               8.0   \n",
       "267     0.943694     -0.070685      0.324324               5.0   \n",
       "514     0.888903     -0.334174      0.000124               5.0   \n",
       "...          ...           ...           ...               ...   \n",
       "133901  0.888928     -0.308113      0.000352               5.0   \n",
       "133902  0.888918     -0.359177      0.000264               3.0   \n",
       "133903  0.888940     -0.287641      0.000456               7.0   \n",
       "133904  0.889081     -0.217800      0.001727               6.0   \n",
       "133905  0.888912     -0.345882      0.000209               9.0   \n",
       "\n",
       "        first_neg_index  first_neg_sim  first_sim  instance_id  label_id  \\\n",
       "259                11.0       1.398008   1.934332        259.0      14.0   \n",
       "260                11.0       1.412439   1.919239        260.0      14.0   \n",
       "265                11.0       1.406433   1.843791        265.0      14.0   \n",
       "267                11.0       1.391390   1.934332        267.0      14.0   \n",
       "514                 8.0       1.328566   1.782369        514.0      29.0   \n",
       "...                 ...            ...        ...          ...       ...   \n",
       "133901              8.0       1.384939   1.972260     133901.0    7462.0   \n",
       "133902              8.0       1.418784   1.870296     133902.0    7462.0   \n",
       "133903              8.0       1.380088   1.972260     133903.0    7462.0   \n",
       "133904              8.0       1.369747   1.826114     133904.0    7462.0   \n",
       "133905              8.0       1.392983   1.842125     133905.0    7462.0   \n",
       "\n",
       "        last_neg_sim  ...  top2k_last_neg_sim  top2k_last_pos_index  \\\n",
       "259         1.124937  ...            1.339470                  10.0   \n",
       "260         1.126099  ...            1.355312                  10.0   \n",
       "265         1.125505  ...            1.319843                  10.0   \n",
       "267         1.121246  ...            1.334502                  10.0   \n",
       "514         0.906561  ...            1.298544                   7.0   \n",
       "...              ...  ...                 ...                   ...   \n",
       "133901      0.904459  ...            1.325286                   7.0   \n",
       "133902      0.903830  ...            1.359579                   7.0   \n",
       "133903      0.906378  ...            1.325542                   7.0   \n",
       "133904      0.903352  ...            1.331935                   7.0   \n",
       "133905      0.904228  ...            1.322042                   7.0   \n",
       "\n",
       "        top2k_last_pos_sim top2k_margin topk_ap  topk_purity  folder_name  \\\n",
       "259               1.636010     0.238002     1.0     0.916667    m.04glw0x   \n",
       "260               1.612859     0.200420     1.0     0.916667    m.04glw0x   \n",
       "265               1.639604     0.233171     1.0     0.916667    m.04glw0x   \n",
       "267               1.636666     0.245275     1.0     0.916667    m.04glw0x   \n",
       "514               1.564610     0.236045     1.0     0.888889      n008749   \n",
       "...                    ...          ...     ...          ...          ...   \n",
       "133901            1.753304     0.368365     1.0     0.888889      n001304   \n",
       "133902            1.752325     0.333541     1.0     0.888889      n001304   \n",
       "133903            1.761327     0.381239     1.0     0.888889      n001304   \n",
       "133904            1.689538     0.319790     1.0     0.888889      n001304   \n",
       "133905            1.739663     0.346680     1.0     0.888889      n001304   \n",
       "\n",
       "        all_fetched  n_outlier  n_within_2k  \n",
       "259            True          1            0  \n",
       "260            True          1            0  \n",
       "265            True          1            0  \n",
       "267            True          1            0  \n",
       "514            True          1            0  \n",
       "...             ...        ...          ...  \n",
       "133901         True          1            0  \n",
       "133902         True          1            0  \n",
       "133903         True          1            0  \n",
       "133904         True          1            0  \n",
       "133905         True          1            0  \n",
       "\n",
       "[5883 rows x 27 columns]"
      ]
     },
     "execution_count": 161,
     "metadata": {},
     "output_type": "execute_result"
    }
   ],
   "source": [
    "m1t2f[(m1t2f.n_within_2k == 0) & (m1t2f.n_outlier > 0)]"
   ]
  },
  {
   "cell_type": "code",
   "execution_count": 135,
   "metadata": {},
   "outputs": [
    {
     "name": "stdout",
     "output_type": "stream",
     "text": [
      "Model     #of Type II            #of Within 2k\n",
      "--------  ---------------------  --------------------\n",
      "CL003     20006/134117 (14.92%)  11067/134117 (8.25%)\n",
      "RM        17390/134117 (12.97%)  9467/134117 (7.06%)\n",
      "RMG       16057/134117 (11.97%)  8410/134117 (6.27%)\n",
      "RMG*      15994/134117 (11.93%)  8411/134117 (6.27%)\n",
      "RMG2p*    15400/134117 (11.48%)  7885/134117 (5.88%)\n",
      "RSEMG2p*  14882/134117 (11.10%)  7478/134117 (5.58%)\n"
     ]
    }
   ],
   "source": [
    "headerlist = ['Model', '#of Type II', '#of Within 2k']\n",
    "tablelist = []\n",
    "for name, events in zip([ec1_name, ec2_name, ec3_name, ec4_name, ec5_name, ec6_name], [m1t2f, m2t2f, m3t2f, m4t2f, m5t2f, m6t2f]):\n",
    "    vals = [namemap[name]]\n",
    "    vals.append(\n",
    "        _percent(len(events), num_total_instances))\n",
    "    vals.append(\n",
    "        _percent(len(events[(events.n_outlier == 0) & (events.n_within_2k > 0)]), num_total_instances))\n",
    "    tablelist.append(vals)\n",
    "table = tabulate(tablelist, headerlist)\n",
    "print(table)"
   ]
  },
  {
   "cell_type": "markdown",
   "metadata": {},
   "source": [
    "## Type II Cases"
   ]
  },
  {
   "cell_type": "code",
   "execution_count": 136,
   "metadata": {
    "scrolled": true
   },
   "outputs": [
    {
     "name": "stdout",
     "output_type": "stream",
     "text": [
      "Model     #of Type II            #of in Top 2k         #of all outlier      #of mixed\n",
      "--------  ---------------------  --------------------  -------------------  -------------------\n",
      "CL003     20006/134117 (14.92%)  11067/134117 (8.25%)  5883/134117 (4.39%)  3056/134117 (2.28%)\n",
      "RM        17390/134117 (12.97%)  9467/134117 (7.06%)   5393/134117 (4.02%)  2530/134117 (1.89%)\n",
      "RMG       16057/134117 (11.97%)  8410/134117 (6.27%)   5443/134117 (4.06%)  2204/134117 (1.64%)\n",
      "RMG*      15994/134117 (11.93%)  8411/134117 (6.27%)   5406/134117 (4.03%)  2177/134117 (1.62%)\n",
      "RMG2p*    15400/134117 (11.48%)  7885/134117 (5.88%)   5463/134117 (4.07%)  2052/134117 (1.53%)\n",
      "RSEMG2p*  14882/134117 (11.10%)  7478/134117 (5.58%)   5387/134117 (4.02%)  2017/134117 (1.50%)\n"
     ]
    }
   ],
   "source": [
    "headerlist = ['Model', '#of Type II', '#of in Top 2k', '#of all outlier', '#of mixed']\n",
    "tablelist = []\n",
    "for name, events in zip([ec1_name, ec2_name, ec3_name, ec4_name, ec5_name, ec6_name], [m1t2f, m2t2f, m3t2f, m4t2f, m5t2f, m6t2f]):\n",
    "    vals = [namemap[name]]\n",
    "    in2k = events[(events.n_outlier == 0) & (events.n_within_2k > 0)]\n",
    "    all_out = events[(events.n_outlier > 0) & (events.n_within_2k == 0)]\n",
    "    num_of_mixed = len(events) - len(in2k) - len(all_out)\n",
    "    vals.append(\n",
    "        _percent(len(events), num_total_instances))\n",
    "    vals.append(\n",
    "        _percent(len(in2k), num_total_instances))\n",
    "    vals.append(\n",
    "        _percent(len(all_out), num_total_instances))\n",
    "    vals.append(\n",
    "        _percent(num_of_mixed, num_total_instances))\n",
    "    tablelist.append(vals)\n",
    "table = tabulate(tablelist, headerlist)\n",
    "print(table)"
   ]
  },
  {
   "cell_type": "code",
   "execution_count": 137,
   "metadata": {},
   "outputs": [
    {
     "name": "stdout",
     "output_type": "stream",
     "text": [
      "Model     #of Type II         #of in Top 2k       #of all outlier\n",
      "--------  ------------------  ------------------  -----------------\n",
      "CL003     1865/7474 (24.95%)  1623/7474 (21.72%)  722/7474 (9.66%)\n",
      "RM        1654/7474 (22.13%)  1428/7474 (19.11%)  588/7474 (7.87%)\n",
      "RMG       1492/7474 (19.96%)  1269/7474 (16.98%)  559/7474 (7.48%)\n",
      "RMG*      1496/7474 (20.02%)  1269/7474 (16.98%)  571/7474 (7.64%)\n",
      "RMG2p*    1420/7474 (19.00%)  1201/7474 (16.07%)  546/7474 (7.31%)\n",
      "RSEMG2p*  1404/7474 (18.79%)  1183/7474 (15.83%)  501/7474 (6.70%)\n"
     ]
    }
   ],
   "source": [
    "headerlist = ['Model', '#of Type II', '#of in Top 2k', '#of all outlier']\n",
    "tablelist = []\n",
    "for name, events in zip([ec1_name, ec2_name, ec3_name, ec4_name, ec5_name, ec6_name], [m1t2f, m2t2f, m3t2f, m4t2f, m5t2f, m6t2f]):\n",
    "    vals = [namemap[name]]\n",
    "    in2k = events[(events.n_outlier == 0) & (events.n_within_2k > 0)].label_id.unique()\n",
    "    all_out = events[(events.n_outlier > 0) & (events.n_within_2k == 0)].label_id.unique()\n",
    "    vals.append(\n",
    "        _percent(len(events.label_id.unique()), num_total_classes))\n",
    "    vals.append(\n",
    "        _percent(len(in2k), num_total_classes))\n",
    "    vals.append(\n",
    "        _percent(len(all_out), num_total_classes))\n",
    "    tablelist.append(vals)\n",
    "table = tabulate(tablelist, headerlist)\n",
    "print(table)"
   ]
  },
  {
   "cell_type": "code",
   "execution_count": 193,
   "metadata": {},
   "outputs": [],
   "source": [
    "m1t2f_allout = m1t2f[(m1t2f.n_outlier > 0) & (m1t2f.n_within_2k == 0)]\n",
    "m2t2f_allout = m2t2f[(m2t2f.n_outlier > 0) & (m2t2f.n_within_2k == 0)]\n",
    "m3t2f_allout = m3t2f[(m3t2f.n_outlier > 0) & (m3t2f.n_within_2k == 0)]\n",
    "m4t2f_allout = m4t2f[(m4t2f.n_outlier > 0) & (m4t2f.n_within_2k == 0)]\n",
    "m5t2f_allout = m5t2f[(m5t2f.n_outlier > 0) & (m5t2f.n_within_2k == 0)]\n",
    "m6t2f_allout = m6t2f[(m6t2f.n_outlier > 0) & (m6t2f.n_within_2k == 0)]"
   ]
  },
  {
   "cell_type": "code",
   "execution_count": 217,
   "metadata": {},
   "outputs": [],
   "source": [
    "m1t2f_top2k = m1t2f[(m1t2f.n_outlier == 0) & (m1t2f.n_within_2k > 0)]\n",
    "m2t2f_top2k = m2t2f[(m2t2f.n_outlier == 0) & (m2t2f.n_within_2k > 0)]\n",
    "m3t2f_top2k = m3t2f[(m3t2f.n_outlier == 0) & (m3t2f.n_within_2k > 0)]\n",
    "m4t2f_top2k = m4t2f[(m4t2f.n_outlier == 0) & (m4t2f.n_within_2k > 0)]\n",
    "m5t2f_top2k = m5t2f[(m5t2f.n_outlier == 0) & (m5t2f.n_within_2k > 0)]\n",
    "m6t2f_top2k = m6t2f[(m6t2f.n_outlier == 0) & (m6t2f.n_within_2k > 0)]"
   ]
  },
  {
   "cell_type": "markdown",
   "metadata": {},
   "source": [
    "## Type II - Mixed Top 2k Spectrum"
   ]
  },
  {
   "cell_type": "code",
   "execution_count": 224,
   "metadata": {},
   "outputs": [
    {
     "name": "stdout",
     "output_type": "stream",
     "text": [
      "Model     [2.0, 1.45]         [1.45, 1.4]          [1.4, 1.3]           [1.3, 1.2]           [1.2, 0.9]\n",
      "--------  ------------------  -------------------  -------------------  -------------------  ----------------\n",
      "CL003     519/107767 (0.48%)  1879/107767 (1.74%)  7875/107767 (7.31%)  794/107767 (0.74%)   0/107767 (0.00%)\n",
      "RM        422/107767 (0.39%)  1061/107767 (0.98%)  6384/107767 (5.92%)  1600/107767 (1.48%)  0/107767 (0.00%)\n",
      "RMG       328/107767 (0.30%)  902/107767 (0.84%)   5748/107767 (5.33%)  1432/107767 (1.33%)  0/107767 (0.00%)\n",
      "RMG*      330/107767 (0.31%)  907/107767 (0.84%)   5770/107767 (5.35%)  1404/107767 (1.30%)  0/107767 (0.00%)\n",
      "RMG2p*    285/107767 (0.26%)  827/107767 (0.77%)   5380/107767 (4.99%)  1393/107767 (1.29%)  0/107767 (0.00%)\n",
      "RSEMG2p*  320/107767 (0.30%)  754/107767 (0.70%)   5179/107767 (4.81%)  1225/107767 (1.14%)  0/107767 (0.00%)\n"
     ]
    }
   ],
   "source": [
    "sim_ranges = [(2.0, 1.45), (1.45, 1.4), (1.4, 1.3), (1.3, 1.2), (1.2, 0.9)]\n",
    "headerlist = ['Model', '[2.0, 1.45]', '[1.45, 1.4]', '[1.4, 1.3]', '[1.3, 1.2]', '[1.2, 0.9]']\n",
    "tablelist = []\n",
    "interest_events = [m1t2f_top2k, m2t2f_top2k, m3t2f_top2k, m4t2f_top2k, m5t2f_top2k, m6t2f_top2k]\n",
    "for name, events in zip(model_names, interest_events):\n",
    "    vals = [namemap[name]]\n",
    "    for r in sim_ranges:\n",
    "        sim_in_between= events[events.top2k_last_pos_sim.between(r[1], r[0])]\n",
    "        vals.append(_percent(len(sim_in_between), len(common_t1_instance_ids)))\n",
    "        #vals.append('{}/{} ({:02.5f})'.format(len(sim_in_between), num_total_instances, len(sim_in_between) / num_total_instances))\n",
    "    tablelist.append(vals)\n",
    "table = tabulate(tablelist, headerlist)\n",
    "print(table)"
   ]
  },
  {
   "cell_type": "code",
   "execution_count": 233,
   "metadata": {},
   "outputs": [
    {
     "name": "stdout",
     "output_type": "stream",
     "text": [
      "1074\n"
     ]
    }
   ],
   "source": [
    "m6_hardfp_events = m6t2f_top2k[m6t2f_top2k.top2k_last_pos_sim.between(1.4, 2.0)]\n",
    "print(len(m6_hardfp_events))"
   ]
  },
  {
   "cell_type": "code",
   "execution_count": 242,
   "metadata": {},
   "outputs": [
    {
     "data": {
      "text/plain": [
       "n003979      51\n",
       "n003508      46\n",
       "n000608      45\n",
       "n002724      42\n",
       "n000341      34\n",
       "             ..\n",
       "0516804       1\n",
       "n009259       1\n",
       "m.02px3w3     1\n",
       "n001142       1\n",
       "n002411       1\n",
       "Name: folder_name, Length: 470, dtype: int64"
      ]
     },
     "execution_count": 242,
     "metadata": {},
     "output_type": "execute_result"
    }
   ],
   "source": [
    "m6_hardfp_events.folder_name.value_counts()"
   ]
  },
  {
   "cell_type": "code",
   "execution_count": 138,
   "metadata": {},
   "outputs": [],
   "source": [
    "m1t2f_m = m1t2f[m1t2f.top2k_margin > 0]\n",
    "m2t2f_m = m2t2f[m2t2f.top2k_margin > 0]\n",
    "m3t2f_m = m3t2f[m3t2f.top2k_margin > 0]\n",
    "m4t2f_m = m4t2f[m4t2f.top2k_margin > 0]\n",
    "m5t2f_m = m5t2f[m5t2f.top2k_margin > 0]\n",
    "m6t2f_m = m6t2f[mt2f.top2k_margin > 0]"
   ]
  },
  {
   "cell_type": "code",
   "execution_count": 139,
   "metadata": {},
   "outputs": [
    {
     "name": "stdout",
     "output_type": "stream",
     "text": [
      "Model     [2.0, 1.5]           [1.5, 1.45]          [1.45, 1.4]         [1.4, 1.3]          [1.3, 0.9]\n",
      "--------  -------------------  -------------------  ------------------  ------------------  ----------------\n",
      "CL003     3128/134117 (2.33%)  1048/134117 (0.78%)  839/134117 (0.63%)  405/134117 (0.30%)  0/134117 (0.00%)\n",
      "RM        2927/134117 (2.18%)  889/134117 (0.66%)   780/134117 (0.58%)  446/134117 (0.33%)  3/134117 (0.00%)\n",
      "RMG       3084/134117 (2.30%)  813/134117 (0.61%)   787/134117 (0.59%)  449/134117 (0.33%)  2/134117 (0.00%)\n",
      "RMG*      2985/134117 (2.23%)  827/134117 (0.62%)   785/134117 (0.59%)  456/134117 (0.34%)  0/134117 (0.00%)\n",
      "RMG2p*    3111/134117 (2.32%)  817/134117 (0.61%)   738/134117 (0.55%)  491/134117 (0.37%)  3/134117 (0.00%)\n",
      "RSEMG2p*  3171/134117 (2.36%)  825/134117 (0.62%)   711/134117 (0.53%)  428/134117 (0.32%)  3/134117 (0.00%)\n"
     ]
    }
   ],
   "source": [
    "sim_ranges = [(2.0, 1.5), (1.5, 1.45), (1.45, 1.4), (1.4, 1.3), (1.3, 0.9)]\n",
    "headerlist = ['Model', '[2.0, 1.5]', '[1.5, 1.45]', '[1.45, 1.4]', '[1.4, 1.3]', '[1.3, 0.9]']\n",
    "tablelist = []\n",
    "for name, events in zip([ec1_name, ec2_name, ec3_name, ec4_name, ec5_name, ec6_name], [m1t2f_m, m2t2f_m, m3t2f_m, m4t2f_m, m5t2f_m, m6t2f_m]):\n",
    "    vals = [namemap[name]]\n",
    "    for r in sim_ranges:\n",
    "        sim_in_between= events[events.top2k_last_pos_sim.between(r[1], r[0])]\n",
    "        vals.append(_percent(len(sim_in_between), num_total_instances))\n",
    "        #vals.append('{}/{} ({:02.5f})'.format(len(sim_in_between), num_total_instances, len(sim_in_between) / num_total_instances))\n",
    "    tablelist.append(vals)\n",
    "table = tabulate(tablelist, headerlist)\n",
    "print(table)"
   ]
  },
  {
   "cell_type": "markdown",
   "metadata": {},
   "source": [
    "## Common Type II Study"
   ]
  },
  {
   "cell_type": "code",
   "execution_count": 256,
   "metadata": {},
   "outputs": [
    {
     "name": "stdout",
     "output_type": "stream",
     "text": [
      "10491\n"
     ]
    }
   ],
   "source": [
    "common_t2_instance_ids = list(map(int, list(set(m1t2f.instance_id) & set(m2t2f.instance_id) & set(m4t2f.instance_id) & set(m5t2f.instance_id) & set(m6t2f.instance_id))))\n",
    "print(len(common_t2_instance_ids))"
   ]
  },
  {
   "cell_type": "code",
   "execution_count": 249,
   "metadata": {},
   "outputs": [],
   "source": [
    "m1ct2f = m1t2f[m1t2f.instance_id.isin(common_t2_instance_ids)]\n",
    "m2ct2f = m2t2f[m2t2f.instance_id.isin(common_t2_instance_ids)]\n",
    "m3ct2f = m3t2f[m3t2f.instance_id.isin(common_t2_instance_ids)]\n",
    "m4ct2f = m4t2f[m4t2f.instance_id.isin(common_t2_instance_ids)]\n",
    "m5ct2f = m5t2f[m5t2f.instance_id.isin(common_t2_instance_ids)]\n",
    "m6ct2f = m6t2f[m6t2f.instance_id.isin(common_t2_instance_ids)]"
   ]
  },
  {
   "cell_type": "code",
   "execution_count": 252,
   "metadata": {},
   "outputs": [],
   "source": [
    "m1ct2f_allout = m1ct2f[(m1ct2f.n_outlier > 0) & (m1ct2f.n_within_2k == 0)]\n",
    "m2ct2f_allout = m2ct2f[(m2ct2f.n_outlier > 0) & (m2ct2f.n_within_2k == 0)]\n",
    "m3ct2f_allout = m3ct2f[(m3ct2f.n_outlier > 0) & (m3ct2f.n_within_2k == 0)]\n",
    "m4ct2f_allout = m4ct2f[(m4ct2f.n_outlier > 0) & (m4ct2f.n_within_2k == 0)]\n",
    "m5ct2f_allout = m5ct2f[(m5ct2f.n_outlier > 0) & (m5ct2f.n_within_2k == 0)]\n",
    "m6ct2f_allout = m6ct2f[(m6ct2f.n_outlier > 0) & (m6ct2f.n_within_2k == 0)]"
   ]
  },
  {
   "cell_type": "code",
   "execution_count": 250,
   "metadata": {},
   "outputs": [],
   "source": [
    "m1ct2f_top2k = m1ct2f[(m1ct2f.n_outlier == 0) & (m1ct2f.n_within_2k > 0)]\n",
    "m2ct2f_top2k = m2ct2f[(m2ct2f.n_outlier == 0) & (m2ct2f.n_within_2k > 0)]\n",
    "m3ct2f_top2k = m3ct2f[(m3ct2f.n_outlier == 0) & (m3ct2f.n_within_2k > 0)]\n",
    "m4ct2f_top2k = m4ct2f[(m4ct2f.n_outlier == 0) & (m4ct2f.n_within_2k > 0)]\n",
    "m5ct2f_top2k = m5ct2f[(m5ct2f.n_outlier == 0) & (m5ct2f.n_within_2k > 0)]\n",
    "m6ct2f_top2k = m6ct2f[(m6ct2f.n_outlier == 0) & (m6ct2f.n_within_2k > 0)]"
   ]
  },
  {
   "cell_type": "code",
   "execution_count": null,
   "metadata": {},
   "outputs": [],
   "source": []
  }
 ],
 "metadata": {
  "kernelspec": {
   "display_name": "Python 3",
   "language": "python",
   "name": "python3"
  },
  "language_info": {
   "codemirror_mode": {
    "name": "ipython",
    "version": 3
   },
   "file_extension": ".py",
   "mimetype": "text/x-python",
   "name": "python",
   "nbconvert_exporter": "python",
   "pygments_lexer": "ipython3",
   "version": "3.6.8"
  }
 },
 "nbformat": 4,
 "nbformat_minor": 2
}
