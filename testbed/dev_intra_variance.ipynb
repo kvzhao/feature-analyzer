{
 "cells": [
  {
   "cell_type": "code",
   "execution_count": 1,
   "metadata": {},
   "outputs": [],
   "source": [
    "import os\n",
    "import sys\n",
    "import json\n",
    "from os.path import join, basename, dirname\n",
    "\n",
    "import numpy as np\n",
    "import pandas as pd\n",
    "\n",
    "from metric_learning_evaluator.index.agent import IndexAgent\n",
    "from metric_learning_evaluator.data_tools.embedding_container import EmbeddingContainer\n",
    "from metric_learning_evaluator.utils.template_parser import InferenceResult\n"
   ]
  },
  {
   "cell_type": "code",
   "execution_count": 2,
   "metadata": {},
   "outputs": [],
   "source": [
    "data_dir = '/home/kv_zhao/nist-e2e/metric-learning-evaluator/feature-examples/featobj_mergeV1_D40kv2_RMG/'"
   ]
  },
  {
   "cell_type": "code",
   "execution_count": null,
   "metadata": {},
   "outputs": [],
   "source": [
    "RMG = InferenceResult('/home/kv_zhao/nist-e2e/outcomes/MERGE_V1/D40kv2_RMG_iv1_pv1/')"
   ]
  },
  {
   "cell_type": "code",
   "execution_count": 3,
   "metadata": {},
   "outputs": [
    {
     "name": "stdout",
     "output_type": "stream",
     "text": [
      "Container:embedding_container created\n",
      "Load embedding container from feat_obj format\n",
      "/home/kv_zhao/nist-e2e/metric-learning-evaluator/feature-examples/featobj_mergeV1_D40kv2_RMG//embeddings.npy is loaded\n",
      "/home/kv_zhao/nist-e2e/metric-learning-evaluator/feature-examples/featobj_mergeV1_D40kv2_RMG//label_ids.npy is loaded\n",
      "/home/kv_zhao/nist-e2e/metric-learning-evaluator/feature-examples/featobj_mergeV1_D40kv2_RMG//filename_strings.npy is loaded\n",
      "/home/kv_zhao/nist-e2e/metric-learning-evaluator/feature-examples/featobj_mergeV1_D40kv2_RMG//probabilities.npy is loaded\n",
      "/home/kv_zhao/nist-e2e/metric-learning-evaluator/feature-examples/featobj_mergeV1_D40kv2_RMG//label_names.npy is loaded\n",
      "/home/kv_zhao/nist-e2e/metric-learning-evaluator/feature-examples/featobj_mergeV1_D40kv2_RMG//landmarks.npy is loaded\n",
      "/home/kv_zhao/nist-e2e/metric-learning-evaluator/feature-examples/featobj_mergeV1_D40kv2_RMG//instance_ids.npy is loaded\n",
      "container size: 10000 -> 134281\n",
      "embedding size: 0 -> 1024\n",
      "probability size: 0 -> 1\n",
      "landmark size: 0 -> 10\n",
      "Reset embedding_container\n",
      "Index Table Created\n",
      "Container initialized.\n"
     ]
    }
   ],
   "source": [
    "container = EmbeddingContainer()\n",
    "container.load(data_dir)"
   ]
  },
  {
   "cell_type": "code",
   "execution_count": 17,
   "metadata": {},
   "outputs": [
    {
     "name": "stdout",
     "output_type": "stream",
     "text": [
      "HNSW Index Agent is initialized with 134281 features\n"
     ]
    }
   ],
   "source": [
    "instance_ids = container.instance_ids\n",
    "all_embeddings = container.get_embedding_by_instance_ids(instance_ids)\n",
    "agent = IndexAgent('HNSW', instance_ids, all_embeddings, distance_measure='ip')"
   ]
  },
  {
   "cell_type": "code",
   "execution_count": 4,
   "metadata": {},
   "outputs": [],
   "source": [
    "label_ids = container.label_ids\n",
    "sample_label_id = label_ids[3]"
   ]
  },
  {
   "cell_type": "code",
   "execution_count": 30,
   "metadata": {},
   "outputs": [],
   "source": [
    "sample_inst_ids = container.get_instance_ids_by_label_ids(sample_label_id)\n",
    "sample_embeddings = container.get_embedding_by_instance_ids(sample_inst_ids)"
   ]
  },
  {
   "cell_type": "code",
   "execution_count": 31,
   "metadata": {},
   "outputs": [
    {
     "name": "stdout",
     "output_type": "stream",
     "text": [
      "5\n"
     ]
    }
   ],
   "source": [
    "print(len(sample_inst_ids))"
   ]
  },
  {
   "cell_type": "code",
   "execution_count": 32,
   "metadata": {},
   "outputs": [],
   "source": [
    "idxs, sims = agent.search(sample_embeddings, top_k=10, is_similarity=True)"
   ]
  },
  {
   "cell_type": "code",
   "execution_count": 33,
   "metadata": {},
   "outputs": [
    {
     "data": {
      "text/plain": [
       "array([[2.       , 1.4887882, 1.4800723, 1.47902  , 1.4719896, 1.3325983,\n",
       "        1.298273 , 1.295822 , 1.2915524, 1.2859523],\n",
       "       [2.       , 1.8132361, 1.6747476, 1.6252718, 1.4719896, 1.3601923,\n",
       "        1.3281094, 1.2833375, 1.2816005, 1.2815654],\n",
       "       [1.9999999, 1.8132361, 1.7025867, 1.661875 , 1.4887882, 1.3477598,\n",
       "        1.3217814, 1.3063887, 1.2918242, 1.2916085],\n",
       "       [2.       , 1.7025867, 1.634887 , 1.6252718, 1.4800723, 1.3356001,\n",
       "        1.3096268, 1.3019067, 1.2917447, 1.2852807],\n",
       "       [2.       , 1.6747476, 1.661875 , 1.634887 , 1.47902  , 1.3090386,\n",
       "        1.2818949, 1.2800608, 1.2779536, 1.2695997]], dtype=float32)"
      ]
     },
     "execution_count": 33,
     "metadata": {},
     "output_type": "execute_result"
    }
   ],
   "source": [
    "sims"
   ]
  },
  {
   "cell_type": "code",
   "execution_count": 34,
   "metadata": {},
   "outputs": [
    {
     "name": "stdout",
     "output_type": "stream",
     "text": [
      "[    3     5     6     7     4 96728 96731 20703 21788 20710]\n",
      "[3, 4, 5, 6, 7]\n"
     ]
    }
   ],
   "source": [
    "print(idxs[0])\n",
    "print(sample_inst_ids)"
   ]
  },
  {
   "cell_type": "code",
   "execution_count": null,
   "metadata": {},
   "outputs": [],
   "source": []
  }
 ],
 "metadata": {
  "kernelspec": {
   "display_name": "Python 3",
   "language": "python",
   "name": "python3"
  },
  "language_info": {
   "codemirror_mode": {
    "name": "ipython",
    "version": 3
   },
   "file_extension": ".py",
   "mimetype": "text/x-python",
   "name": "python",
   "nbconvert_exporter": "python",
   "pygments_lexer": "ipython3",
   "version": "3.6.8"
  }
 },
 "nbformat": 4,
 "nbformat_minor": 2
}
