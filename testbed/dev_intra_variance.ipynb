{
 "cells": [
  {
   "cell_type": "code",
   "execution_count": 2,
   "metadata": {},
   "outputs": [],
   "source": [
    "import os\n",
    "import sys\n",
    "import json\n",
    "from os.path import join, basename, dirname\n",
    "\n",
    "import numpy as np\n",
    "import pandas as pd\n",
    "\n",
    "import time\n",
    "from tqdm import tqdm\n",
    "\n",
    "from feature_analyzer.index.agent import IndexAgent\n",
    "from feature_analyzer.data_tools.embedding_container import EmbeddingContainer\n",
    "from feature_analyzer.utils.template_parser import InferenceResult\n",
    "from feature_analyzer.data_tools.result_container import ResultContainer\n",
    "\n",
    "import seaborn as sns"
   ]
  },
  {
   "cell_type": "code",
   "execution_count": 3,
   "metadata": {},
   "outputs": [],
   "source": [
    "data_dir = '/home/kv_zhao/nist-e2e/feature-analyzer/examples/featobj_mergeV1_D40kv2_RMG/'\n",
    "#data_dir = '/Users/kv/workspace/feature-analyzer/features/D40kRM'"
   ]
  },
  {
   "cell_type": "code",
   "execution_count": 4,
   "metadata": {},
   "outputs": [
    {
     "name": "stdout",
     "output_type": "stream",
     "text": [
      "Load from /home/kv_zhao/nist-e2e/outcomes/MERGE_V1/D40kv2_RMG_iv1_pv1/\n",
      "FP: 27525, FN: 2450, NF: 18, WLM:1341\n"
     ]
    }
   ],
   "source": [
    "RMG = InferenceResult('/home/kv_zhao/nist-e2e/outcomes/MERGE_V1/D40kv2_RMG_iv1_pv1/')\n",
    "#RMG = InferenceResult('/Users/kv/workspace/nist-e2e/outcomes/MERGE_V0/D40kv2_Rms1m_clean/')"
   ]
  },
  {
   "cell_type": "code",
   "execution_count": 5,
   "metadata": {},
   "outputs": [
    {
     "name": "stdout",
     "output_type": "stream",
     "text": [
      "Container:embedding_container created\n",
      "Load embedding container from feat_obj format\n",
      "/home/kv_zhao/nist-e2e/feature-analyzer/examples/featobj_mergeV1_D40kv2_RMG//embeddings.npy is loaded\n",
      "/home/kv_zhao/nist-e2e/feature-analyzer/examples/featobj_mergeV1_D40kv2_RMG//label_ids.npy is loaded\n",
      "/home/kv_zhao/nist-e2e/feature-analyzer/examples/featobj_mergeV1_D40kv2_RMG//filename_strings.npy is loaded\n",
      "/home/kv_zhao/nist-e2e/feature-analyzer/examples/featobj_mergeV1_D40kv2_RMG//probabilities.npy is loaded\n",
      "/home/kv_zhao/nist-e2e/feature-analyzer/examples/featobj_mergeV1_D40kv2_RMG//label_names.npy is loaded\n",
      "/home/kv_zhao/nist-e2e/feature-analyzer/examples/featobj_mergeV1_D40kv2_RMG//landmarks.npy is loaded\n",
      "/home/kv_zhao/nist-e2e/feature-analyzer/examples/featobj_mergeV1_D40kv2_RMG//instance_ids.npy is loaded\n",
      "container size: 10000 -> 134281\n",
      "embedding size: 0 -> 1024\n",
      "probability size: 0 -> 1\n",
      "landmark size: 0 -> 10\n",
      "Reset embedding_container\n",
      "Index Table Created\n",
      "Container initialized.\n"
     ]
    }
   ],
   "source": [
    "container = EmbeddingContainer()\n",
    "container.load(data_dir)"
   ]
  },
  {
   "cell_type": "code",
   "execution_count": 6,
   "metadata": {},
   "outputs": [
    {
     "name": "stdout",
     "output_type": "stream",
     "text": [
      "HNSW Index Agent is initialized with 134281 features\n"
     ]
    }
   ],
   "source": [
    "instance_ids = container.instance_ids\n",
    "all_embeddings = container.get_embedding_by_instance_ids(instance_ids)\n",
    "agent = IndexAgent('HNSW', instance_ids, all_embeddings, distance_measure='ip')"
   ]
  },
  {
   "cell_type": "code",
   "execution_count": 7,
   "metadata": {},
   "outputs": [
    {
     "name": "stdout",
     "output_type": "stream",
     "text": [
      "=============== embedding_container ===============\n",
      "embeddings: (134281, 1024)\n",
      "probabilities: (134281, 1)\n",
      "landamrks: (134281, 10)\n",
      "internals: instance_ids, label_ids, label_names, filename_strings\n",
      "attributes: source\n",
      "==================================================\n",
      "\n"
     ]
    }
   ],
   "source": [
    "print(container)"
   ]
  },
  {
   "cell_type": "code",
   "execution_count": null,
   "metadata": {},
   "outputs": [],
   "source": [
    "start = time.time()\n",
    "label_ids = list(set(container.label_ids))\n",
    "num_identity = len(label_ids)\n",
    "\n",
    "total_topk_miss_counts = 0\n",
    "\n",
    "for label_id in label_ids[3560:3561]:\n",
    "    same_class_inst_ids = container.get_instance_ids_by_label_ids(label_id)\n",
    "    same_class_embeddings = container.get_embedding_by_instance_ids(same_class_inst_ids)\n",
    "    class_center_embedding = np.mean(same_class_embeddings, axis=0)\n",
    "    class_center_fluct = np.mean(np.std(same_class_embeddings, axis=0))\n",
    "    \n",
    "    print(same_class_inst_ids)\n",
    "    \n",
    "    # instance\n",
    "    num_inst_same_class = len(same_class_inst_ids)\n",
    "    retrieved_indexes, similarities = agent.search(\n",
    "        same_class_embeddings, top_k = 2 * num_inst_same_class, is_similarity=True)\n",
    "    retrieved_label_ids = container.get_label_by_instance_ids(retrieved_indexes)\n",
    "    hits = retrieved_label_ids == np.asarray([label_id])\n",
    "    \n",
    "    # top k instance\n",
    "    topk_hits = hits[:, :num_inst_same_class]\n",
    "    #np.isin(retrieved_indexes[:, :num_inst_same_class], same_class_inst_ids)\n",
    "    topk_hit_counts = np.sum(topk_hits, axis=1)\n",
    "    topk_miss_counts = np.sum(~topk_hits, axis=1)\n",
    "    topk_purities = topk_hit_counts / num_inst_same_class\n",
    "    topk_same_class_purity = np.mean(topk_purities)\n",
    "    \n",
    "    #print(topk_miss_counts, topk_purities, topk_same_class_purity)\n",
    "    total_topk_miss_counts += np.sum(topk_miss_counts, axis=0)\n",
    "    \n",
    "    # center\n",
    "    center_retrieved_indexes, center_similarities = agent.search(\n",
    "        class_center_embedding, top_k = 2 * num_inst_same_class, is_similarity=True)\n",
    "    center_retrieved_label_ids = container.get_label_by_instance_ids(center_retrieved_indexes)\n",
    "    center_hits = center_retrieved_label_ids == np.asarray([label_id])\n",
    "    \n",
    "    # top k center\n",
    "    topk_center_hits = center_hits[:, :num_inst_same_class]\n",
    "    topk_center_hit_counts = np.sum(topk_center_hits, axis=1)\n",
    "    topk_center_purities = topk_center_hit_counts / num_inst_same_class\n",
    "    topk_center_same_class_purity = np.mean(topk_center_purities)\n",
    "    \n",
    "    \n",
    "    # top 2k instance\n",
    "    assert hits.shape == retrieved_label_ids.shape\n",
    "    for row, (q_id, ret_id, hit_arr, hit_label_arr) in enumerate(\n",
    "            zip(same_class_inst_ids, retrieved_indexes, hits, retrieved_label_ids)):\n",
    "        # for each arr, must have negative and positive (self)\n",
    "        first_neg_id = np.argmax(~hit_arr)\n",
    "        prev_pos_id = first_neg_id - 1\n",
    "        last_pos_id = np.where(hit_arr)[-1]\n",
    "\n",
    "        if last_pos_id.size == 0:\n",
    "            # event should records\n",
    "            print('q_id', q_id)\n",
    "            print('q container label', container.get_label_by_instance_ids(q_id))\n",
    "            print('ret_id', ret_id)\n",
    "            print('hit_label_arr', hit_label_arr)\n",
    "            print('container label', container.get_label_by_instance_ids(ret_id))\n",
    "            print('hit arr', hit_arr)\n",
    "            print('sim', similarities[row])\n",
    "            #print(ret_id)\n",
    "            #print(label_id)\n",
    "            #print(same_class_inst_ids[row])\n",
    "            #print(same_class_inst_ids)\n",
    "            #print(retrieved_label_ids[row], hit_label_arr)\n",
    "            continue\n",
    "        last_pos_id = last_pos_id[-1]\n",
    "        last_pos_sim = similarities[row, last_pos_id]\n",
    "        first_neg_sim = similarities[row, first_neg_id]\n",
    "        margin = first_neg_sim - last_pos_sim\n",
    "        #print(first_neg_id, last_pos_id, hit_arr, hit_label_arr, margin)\n",
    "        \n",
    "    #last_positive_ids = np.asarray(last_positive_ids)\n",
    "    #first_negative_ids = np.asarray(first_negative_ids)\n",
    "    \n",
    "\n",
    "    # if first_neg > last_pos (purity == 1.0) => compute margin\n",
    "    # otherwise, count how many different classes within.\n",
    "    #print('hits', hit_label_ids)\n",
    "    #print('positive ids', positive_ids)\n",
    "    #print('negative ids', negative_ids)\n",
    "\n",
    "    #break\n",
    "    \n",
    "end = time.time()\n",
    "hours, rem = divmod(end-start, 3600)\n",
    "minutes, seconds = divmod(rem, 60)\n",
    "print(\"{:0>2}:{:0>2}:{:05.2f}\".format(int(hours),int(minutes),seconds))\n",
    "\n",
    "print(total_topk_miss_counts)\n",
    "print(total_topk_miss_counts / len(container.instance_ids))"
   ]
  },
  {
   "cell_type": "markdown",
   "metadata": {},
   "source": [
    "## Analysis from results"
   ]
  },
  {
   "cell_type": "code",
   "execution_count": 6,
   "metadata": {},
   "outputs": [],
   "source": [
    "results = ResultContainer()"
   ]
  },
  {
   "cell_type": "code",
   "execution_count": 7,
   "metadata": {},
   "outputs": [
    {
     "name": "stdout",
     "output_type": "stream",
     "text": [
      "Load results and events from '/home/kv_zhao/nist-e2e/feature-analyzer/var_mergeV0_D40k_RMG'\n"
     ]
    }
   ],
   "source": [
    "res_dir = '/home/kv_zhao/nist-e2e/feature-analyzer/var_mergeV0_D40k_RMG'\n",
    "results.load(res_dir)"
   ]
  },
  {
   "cell_type": "code",
   "execution_count": 10,
   "metadata": {},
   "outputs": [],
   "source": [
    "events = results.events"
   ]
  },
  {
   "cell_type": "code",
   "execution_count": 13,
   "metadata": {},
   "outputs": [],
   "source": [
    "margin_events = events[events.margin >= 0.0]\n",
    "no_margin_events = events[events.margin < 0.0]"
   ]
  },
  {
   "cell_type": "code",
   "execution_count": 18,
   "metadata": {},
   "outputs": [],
   "source": [
    "label_ids = list(map(int, events.label_id.unique()))\n",
    "label_num_instance_map = {\n",
    "    label_id: len(container.get_instance_ids_by_label(label_id)) for label_id in label_ids\n",
    "}"
   ]
  },
  {
   "cell_type": "code",
   "execution_count": 26,
   "metadata": {},
   "outputs": [
    {
     "data": {
      "text/plain": [
       "[1.0, 1.0, 1.0, 1.0, 1.0]"
      ]
     },
     "execution_count": 26,
     "metadata": {},
     "output_type": "execute_result"
    }
   ],
   "source": [
    "list(margin_events[margin_events.label_id == 1].label_id)"
   ]
  },
  {
   "cell_type": "code",
   "execution_count": 31,
   "metadata": {},
   "outputs": [
    {
     "data": {
      "text/plain": [
       "<matplotlib.axes._subplots.AxesSubplot at 0x7f1ec32468d0>"
      ]
     },
     "execution_count": 31,
     "metadata": {},
     "output_type": "execute_result"
    },
    {
     "data": {
      "image/png": "[encoded data removed]",
      "text/plain": [
       "<Figure size 432x288 with 1 Axes>"
      ]
     },
     "metadata": {
      "needs_background": "light"
     },
     "output_type": "display_data"
    }
   ],
   "source": [
    "sns.distplot(no_margin_events[\n",
    "    no_margin_events.topk_purity < .5].topk_purity )"
   ]
  },
  {
   "cell_type": "code",
   "execution_count": 36,
   "metadata": {},
   "outputs": [
    {
     "data": {
      "text/html": [
       "<div>\n",
       "<style scoped>\n",
       "    .dataframe tbody tr th:only-of-type {\n",
       "        vertical-align: middle;\n",
       "    }\n",
       "\n",
       "    .dataframe tbody tr th {\n",
       "        vertical-align: top;\n",
       "    }\n",
       "\n",
       "    .dataframe thead th {\n",
       "        text-align: right;\n",
       "    }\n",
       "</style>\n",
       "<table border=\"1\" class=\"dataframe\">\n",
       "  <thead>\n",
       "    <tr style=\"text-align: right;\">\n",
       "      <th></th>\n",
       "      <th>extend_diversity</th>\n",
       "      <th>first_neg_id</th>\n",
       "      <th>first_neg_sim</th>\n",
       "      <th>instance_id</th>\n",
       "      <th>label_id</th>\n",
       "      <th>last_pos_id</th>\n",
       "      <th>last_pos_sim</th>\n",
       "      <th>margin</th>\n",
       "      <th>ret_ids</th>\n",
       "      <th>ret_label_ids</th>\n",
       "      <th>topk_purity</th>\n",
       "    </tr>\n",
       "  </thead>\n",
       "  <tbody>\n",
       "    <tr>\n",
       "      <th>1048</th>\n",
       "      <td>0.0</td>\n",
       "      <td>2.0</td>\n",
       "      <td>1.349985</td>\n",
       "      <td>1048.0</td>\n",
       "      <td>52.0</td>\n",
       "      <td>11.0</td>\n",
       "      <td>1.293045</td>\n",
       "      <td>-0.056940</td>\n",
       "      <td>[1048, 1047, 76025, 55097, 10913, 76027, 1050,...</td>\n",
       "      <td>[52, 52, 4045, 2978, 567, 4045, 52, 200, 2978,...</td>\n",
       "      <td>0.333333</td>\n",
       "    </tr>\n",
       "    <tr>\n",
       "      <th>1257</th>\n",
       "      <td>0.0</td>\n",
       "      <td>1.0</td>\n",
       "      <td>1.432295</td>\n",
       "      <td>1257.0</td>\n",
       "      <td>64.0</td>\n",
       "      <td>68.0</td>\n",
       "      <td>1.291637</td>\n",
       "      <td>-0.140658</td>\n",
       "      <td>[1257, 90277, 90279, 90286, 90270, 90284, 9031...</td>\n",
       "      <td>[64, 4764, 4764, 4764, 4764, 4764, 4764, 4764,...</td>\n",
       "      <td>0.054054</td>\n",
       "    </tr>\n",
       "    <tr>\n",
       "      <th>1469</th>\n",
       "      <td>0.0</td>\n",
       "      <td>1.0</td>\n",
       "      <td>1.922770</td>\n",
       "      <td>1469.0</td>\n",
       "      <td>77.0</td>\n",
       "      <td>21.0</td>\n",
       "      <td>1.778743</td>\n",
       "      <td>-0.144027</td>\n",
       "      <td>[1469, 67684, 67660, 67658, 67677, 67665, 6767...</td>\n",
       "      <td>[77, 3630, 3630, 3630, 3630, 3630, 3630, 3630,...</td>\n",
       "      <td>0.235294</td>\n",
       "    </tr>\n",
       "    <tr>\n",
       "      <th>1470</th>\n",
       "      <td>0.0</td>\n",
       "      <td>1.0</td>\n",
       "      <td>1.891357</td>\n",
       "      <td>1470.0</td>\n",
       "      <td>77.0</td>\n",
       "      <td>33.0</td>\n",
       "      <td>1.803390</td>\n",
       "      <td>-0.087967</td>\n",
       "      <td>[1470, 67649, 67668, 67645, 67652, 1475, 67671...</td>\n",
       "      <td>[77, 3630, 3630, 3630, 3630, 77, 3630, 3630, 3...</td>\n",
       "      <td>0.235294</td>\n",
       "    </tr>\n",
       "    <tr>\n",
       "      <th>1471</th>\n",
       "      <td>0.0</td>\n",
       "      <td>3.0</td>\n",
       "      <td>1.745524</td>\n",
       "      <td>1471.0</td>\n",
       "      <td>77.0</td>\n",
       "      <td>30.0</td>\n",
       "      <td>1.681921</td>\n",
       "      <td>-0.063603</td>\n",
       "      <td>[1471, 1472, 1478, 67686, 67665, 67649, 67641,...</td>\n",
       "      <td>[77, 77, 77, 3630, 3630, 3630, 3630, 3630, 77,...</td>\n",
       "      <td>0.294118</td>\n",
       "    </tr>\n",
       "    <tr>\n",
       "      <th>...</th>\n",
       "      <td>...</td>\n",
       "      <td>...</td>\n",
       "      <td>...</td>\n",
       "      <td>...</td>\n",
       "      <td>...</td>\n",
       "      <td>...</td>\n",
       "      <td>...</td>\n",
       "      <td>...</td>\n",
       "      <td>...</td>\n",
       "      <td>...</td>\n",
       "      <td>...</td>\n",
       "    </tr>\n",
       "    <tr>\n",
       "      <th>112685</th>\n",
       "      <td>0.0</td>\n",
       "      <td>1.0</td>\n",
       "      <td>1.341132</td>\n",
       "      <td>112685.0</td>\n",
       "      <td>5979.0</td>\n",
       "      <td>42.0</td>\n",
       "      <td>1.255983</td>\n",
       "      <td>-0.085150</td>\n",
       "      <td>[112685, 85019, 11355, 4377, 24796, 102158, 11...</td>\n",
       "      <td>[5979, 4478, 592, 232, 1336, 5425, 592, 4478, ...</td>\n",
       "      <td>0.064516</td>\n",
       "    </tr>\n",
       "    <tr>\n",
       "      <th>114127</th>\n",
       "      <td>0.0</td>\n",
       "      <td>18.0</td>\n",
       "      <td>1.373081</td>\n",
       "      <td>114127.0</td>\n",
       "      <td>6054.0</td>\n",
       "      <td>97.0</td>\n",
       "      <td>1.271369</td>\n",
       "      <td>-0.101712</td>\n",
       "      <td>[114127, 114111, 114129, 114128, 114136, 11412...</td>\n",
       "      <td>[6054, 6054, 6054, 6054, 6054, 6054, 6054, 605...</td>\n",
       "      <td>0.396552</td>\n",
       "    </tr>\n",
       "    <tr>\n",
       "      <th>114135</th>\n",
       "      <td>0.0</td>\n",
       "      <td>16.0</td>\n",
       "      <td>1.379302</td>\n",
       "      <td>114135.0</td>\n",
       "      <td>6054.0</td>\n",
       "      <td>103.0</td>\n",
       "      <td>1.242245</td>\n",
       "      <td>-0.137056</td>\n",
       "      <td>[114135, 114134, 114136, 114121, 114108, 11411...</td>\n",
       "      <td>[6054, 6054, 6054, 6054, 6054, 6054, 6054, 605...</td>\n",
       "      <td>0.344828</td>\n",
       "    </tr>\n",
       "    <tr>\n",
       "      <th>115958</th>\n",
       "      <td>0.0</td>\n",
       "      <td>1.0</td>\n",
       "      <td>1.343221</td>\n",
       "      <td>115958.0</td>\n",
       "      <td>6128.0</td>\n",
       "      <td>15.0</td>\n",
       "      <td>1.297459</td>\n",
       "      <td>-0.045763</td>\n",
       "      <td>[115958, 55826, 47971, 52308, 115960, 35294, 1...</td>\n",
       "      <td>[6128, 3012, 2584, 2829, 6128, 1913, 6261, 403...</td>\n",
       "      <td>0.230769</td>\n",
       "    </tr>\n",
       "    <tr>\n",
       "      <th>118802</th>\n",
       "      <td>0.0</td>\n",
       "      <td>5.0</td>\n",
       "      <td>1.352243</td>\n",
       "      <td>118802.0</td>\n",
       "      <td>6274.0</td>\n",
       "      <td>20.0</td>\n",
       "      <td>1.293578</td>\n",
       "      <td>-0.058665</td>\n",
       "      <td>[118802, 118806, 118809, 118804, 118799, 37550...</td>\n",
       "      <td>[6274, 6274, 6274, 6274, 6274, 2019, 2019, 289...</td>\n",
       "      <td>0.461538</td>\n",
       "    </tr>\n",
       "  </tbody>\n",
       "</table>\n",
       "<p>218 rows × 11 columns</p>\n",
       "</div>"
      ],
      "text/plain": [
       "        extend_diversity  first_neg_id  first_neg_sim  instance_id  label_id  \\\n",
       "1048                 0.0           2.0       1.349985       1048.0      52.0   \n",
       "1257                 0.0           1.0       1.432295       1257.0      64.0   \n",
       "1469                 0.0           1.0       1.922770       1469.0      77.0   \n",
       "1470                 0.0           1.0       1.891357       1470.0      77.0   \n",
       "1471                 0.0           3.0       1.745524       1471.0      77.0   \n",
       "...                  ...           ...            ...          ...       ...   \n",
       "112685               0.0           1.0       1.341132     112685.0    5979.0   \n",
       "114127               0.0          18.0       1.373081     114127.0    6054.0   \n",
       "114135               0.0          16.0       1.379302     114135.0    6054.0   \n",
       "115958               0.0           1.0       1.343221     115958.0    6128.0   \n",
       "118802               0.0           5.0       1.352243     118802.0    6274.0   \n",
       "\n",
       "        last_pos_id  last_pos_sim    margin  \\\n",
       "1048           11.0      1.293045 -0.056940   \n",
       "1257           68.0      1.291637 -0.140658   \n",
       "1469           21.0      1.778743 -0.144027   \n",
       "1470           33.0      1.803390 -0.087967   \n",
       "1471           30.0      1.681921 -0.063603   \n",
       "...             ...           ...       ...   \n",
       "112685         42.0      1.255983 -0.085150   \n",
       "114127         97.0      1.271369 -0.101712   \n",
       "114135        103.0      1.242245 -0.137056   \n",
       "115958         15.0      1.297459 -0.045763   \n",
       "118802         20.0      1.293578 -0.058665   \n",
       "\n",
       "                                                  ret_ids  \\\n",
       "1048    [1048, 1047, 76025, 55097, 10913, 76027, 1050,...   \n",
       "1257    [1257, 90277, 90279, 90286, 90270, 90284, 9031...   \n",
       "1469    [1469, 67684, 67660, 67658, 67677, 67665, 6767...   \n",
       "1470    [1470, 67649, 67668, 67645, 67652, 1475, 67671...   \n",
       "1471    [1471, 1472, 1478, 67686, 67665, 67649, 67641,...   \n",
       "...                                                   ...   \n",
       "112685  [112685, 85019, 11355, 4377, 24796, 102158, 11...   \n",
       "114127  [114127, 114111, 114129, 114128, 114136, 11412...   \n",
       "114135  [114135, 114134, 114136, 114121, 114108, 11411...   \n",
       "115958  [115958, 55826, 47971, 52308, 115960, 35294, 1...   \n",
       "118802  [118802, 118806, 118809, 118804, 118799, 37550...   \n",
       "\n",
       "                                            ret_label_ids  topk_purity  \n",
       "1048    [52, 52, 4045, 2978, 567, 4045, 52, 200, 2978,...     0.333333  \n",
       "1257    [64, 4764, 4764, 4764, 4764, 4764, 4764, 4764,...     0.054054  \n",
       "1469    [77, 3630, 3630, 3630, 3630, 3630, 3630, 3630,...     0.235294  \n",
       "1470    [77, 3630, 3630, 3630, 3630, 77, 3630, 3630, 3...     0.235294  \n",
       "1471    [77, 77, 77, 3630, 3630, 3630, 3630, 3630, 77,...     0.294118  \n",
       "...                                                   ...          ...  \n",
       "112685  [5979, 4478, 592, 232, 1336, 5425, 592, 4478, ...     0.064516  \n",
       "114127  [6054, 6054, 6054, 6054, 6054, 6054, 6054, 605...     0.396552  \n",
       "114135  [6054, 6054, 6054, 6054, 6054, 6054, 6054, 605...     0.344828  \n",
       "115958  [6128, 3012, 2584, 2829, 6128, 1913, 6261, 403...     0.230769  \n",
       "118802  [6274, 6274, 6274, 6274, 6274, 2019, 2019, 289...     0.461538  \n",
       "\n",
       "[218 rows x 11 columns]"
      ]
     },
     "execution_count": 36,
     "metadata": {},
     "output_type": "execute_result"
    }
   ],
   "source": [
    "no_margin_events[(no_margin_events.topk_purity < .5) & (no_margin_events.first_neg_sim > 1.3)]"
   ]
  },
  {
   "cell_type": "code",
   "execution_count": null,
   "metadata": {},
   "outputs": [],
   "source": []
  }
 ],
 "metadata": {
  "kernelspec": {
   "display_name": "Python 3",
   "language": "python",
   "name": "python3"
  },
  "language_info": {
   "codemirror_mode": {
    "name": "ipython",
    "version": 3
   },
   "file_extension": ".py",
   "mimetype": "text/x-python",
   "name": "python",
   "nbconvert_exporter": "python",
   "pygments_lexer": "ipython3",
   "version": "3.6.8"
  }
 },
 "nbformat": 4,
 "nbformat_minor": 2
}
