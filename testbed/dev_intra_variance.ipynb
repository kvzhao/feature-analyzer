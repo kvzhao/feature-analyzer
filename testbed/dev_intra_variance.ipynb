{
 "cells": [
  {
   "cell_type": "code",
   "execution_count": 20,
   "metadata": {},
   "outputs": [],
   "source": [
    "import os\n",
    "import sys\n",
    "import json\n",
    "from os.path import join, basename, dirname\n",
    "\n",
    "import numpy as np\n",
    "import pandas as pd\n",
    "\n",
    "import time\n",
    "from tqdm import tqdm\n",
    "\n",
    "from feature_analyzer.index.agent import IndexAgent\n",
    "from feature_analyzer.data_tools.embedding_container import EmbeddingContainer\n",
    "from feature_analyzer.utils.template_parser import InferenceResult"
   ]
  },
  {
   "cell_type": "code",
   "execution_count": 5,
   "metadata": {},
   "outputs": [],
   "source": [
    "data_dir = '/home/kv_zhao/nist-e2e/feature-analyzer/examples/featobj_mergeV1_D40kv2_RMG/'"
   ]
  },
  {
   "cell_type": "code",
   "execution_count": 6,
   "metadata": {},
   "outputs": [
    {
     "name": "stdout",
     "output_type": "stream",
     "text": [
      "Load from /home/kv_zhao/nist-e2e/outcomes/MERGE_V1/D40kv2_RMG_iv1_pv1/\n",
      "FP: 27525, FN: 2450, NF: 18, WLM:1341\n"
     ]
    }
   ],
   "source": [
    "RMG = InferenceResult('/home/kv_zhao/nist-e2e/outcomes/MERGE_V1/D40kv2_RMG_iv1_pv1/')"
   ]
  },
  {
   "cell_type": "code",
   "execution_count": 7,
   "metadata": {},
   "outputs": [
    {
     "name": "stdout",
     "output_type": "stream",
     "text": [
      "Container:embedding_container created\n",
      "Load embedding container from feat_obj format\n",
      "/home/kv_zhao/nist-e2e/feature-analyzer/examples/featobj_mergeV1_D40kv2_RMG//embeddings.npy is loaded\n",
      "/home/kv_zhao/nist-e2e/feature-analyzer/examples/featobj_mergeV1_D40kv2_RMG//label_ids.npy is loaded\n",
      "/home/kv_zhao/nist-e2e/feature-analyzer/examples/featobj_mergeV1_D40kv2_RMG//filename_strings.npy is loaded\n",
      "/home/kv_zhao/nist-e2e/feature-analyzer/examples/featobj_mergeV1_D40kv2_RMG//probabilities.npy is loaded\n",
      "/home/kv_zhao/nist-e2e/feature-analyzer/examples/featobj_mergeV1_D40kv2_RMG//label_names.npy is loaded\n",
      "/home/kv_zhao/nist-e2e/feature-analyzer/examples/featobj_mergeV1_D40kv2_RMG//landmarks.npy is loaded\n",
      "/home/kv_zhao/nist-e2e/feature-analyzer/examples/featobj_mergeV1_D40kv2_RMG//instance_ids.npy is loaded\n",
      "container size: 10000 -> 134281\n",
      "embedding size: 0 -> 1024\n",
      "probability size: 0 -> 1\n",
      "landmark size: 0 -> 10\n",
      "Reset embedding_container\n",
      "Index Table Created\n",
      "Container initialized.\n"
     ]
    }
   ],
   "source": [
    "container = EmbeddingContainer()\n",
    "container.load(data_dir)"
   ]
  },
  {
   "cell_type": "code",
   "execution_count": 8,
   "metadata": {},
   "outputs": [
    {
     "name": "stdout",
     "output_type": "stream",
     "text": [
      "HNSW Index Agent is initialized with 134281 features\n"
     ]
    }
   ],
   "source": [
    "instance_ids = container.instance_ids\n",
    "all_embeddings = container.get_embedding_by_instance_ids(instance_ids)\n",
    "agent = IndexAgent('HNSW', instance_ids, all_embeddings, distance_measure='ip')"
   ]
  },
  {
   "cell_type": "code",
   "execution_count": 9,
   "metadata": {},
   "outputs": [
    {
     "name": "stdout",
     "output_type": "stream",
     "text": [
      "=============== embedding_container ===============\n",
      "embeddings: (134281, 1024)\n",
      "probabilities: (134281, 1)\n",
      "landamrks: (134281, 10)\n",
      "internals: instance_ids, label_ids, label_names, filename_strings\n",
      "attributes: source\n",
      "==================================================\n",
      "\n"
     ]
    }
   ],
   "source": [
    "print(container)"
   ]
  },
  {
   "cell_type": "code",
   "execution_count": 25,
   "metadata": {},
   "outputs": [
    {
     "name": "stdout",
     "output_type": "stream",
     "text": [
      "[1. 1. 1.]\n",
      "0.0\n",
      "Puirty: 7.447069950328043e-06\n",
      "Impuirty: 0.0\n",
      "Impuirty: 0.0\n",
      "00:00:00.01\n"
     ]
    }
   ],
   "source": [
    "mean_purity = 0.0\n",
    "impurity_counts = 0.0\n",
    "start = time.time()\n",
    "counter = 0\n",
    "for label_id in container.label_ids:\n",
    "    same_class_inst_ids = container.get_instance_ids_by_label_ids(label_id)\n",
    "    same_class_embeddings = container.get_embedding_by_instance_ids(same_class_inst_ids)\n",
    "    num_inst_same_class = len(same_class_inst_ids)\n",
    "    retrieved_indexes, similarities = agent.search(\n",
    "        same_class_embeddings, top_k = 2 * num_inst_same_class, is_similarity=True)\n",
    "\n",
    "    retrieved_label_ids = container.get_label_by_instance_ids(retrieved_indexes)\n",
    "\n",
    "    # top k purity\n",
    "    hits = np.isin(retrieved_indexes[:, :num_inst_same_class], same_class_inst_ids)\n",
    "    hit_count_each_inst = np.sum(hits, axis=1)\n",
    "    purity_each_inst = hit_count_each_inst / num_inst_same_class\n",
    "    same_class_purity = np.mean(purity_each_inst)\n",
    "    \n",
    "    print(purity_each_inst)\n",
    "    impurity_counts += np.sum(~(purity_each_inst == 1.0))\n",
    "    print(impurity_counts)\n",
    "\n",
    "    # last positive, first negative\n",
    "    hit_label_ids = retrieved_label_ids == np.asarray([label_id])\n",
    "    positive_ids = np.where(hit_label_ids)\n",
    "    negative_ids = np.where(~hit_label_ids)\n",
    "    first_negative_ids = np.argmin(hit_label_ids, axis=1)\n",
    "\n",
    "    # if first_neg > last_pos (purity == 1.0) => compute margin\n",
    "    # otherwise, count how many different classes within.\n",
    "\n",
    "    mean_purity += same_class_purity\n",
    "    \n",
    "    counter += 1\n",
    "    break\n",
    "print('Puirty: {}'.format(mean_purity / len(container.label_ids)))\n",
    "print('Impuirty: {}'.format(impurity_counts / len(container.label_ids)))\n",
    "print('Impuirty: {}'.format(impurity_counts / len(instance_ids)))\n",
    "end = time.time()\n",
    "hours, rem = divmod(end-start, 3600)\n",
    "minutes, seconds = divmod(rem, 60)\n",
    "print(\"{:0>2}:{:0>2}:{:05.2f}\".format(int(hours),int(minutes),seconds))"
   ]
  },
  {
   "cell_type": "code",
   "execution_count": null,
   "metadata": {},
   "outputs": [],
   "source": []
  }
 ],
 "metadata": {
  "kernelspec": {
   "display_name": "Python 3",
   "language": "python",
   "name": "python3"
  },
  "language_info": {
   "codemirror_mode": {
    "name": "ipython",
    "version": 3
   },
   "file_extension": ".py",
   "mimetype": "text/x-python",
   "name": "python",
   "nbconvert_exporter": "python",
   "pygments_lexer": "ipython3",
   "version": "3.6.8"
  }
 },
 "nbformat": 4,
 "nbformat_minor": 2
}
